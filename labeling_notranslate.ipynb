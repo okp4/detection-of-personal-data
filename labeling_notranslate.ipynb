{
 "cells": [
  {
   "cell_type": "code",
   "execution_count": 1,
   "metadata": {},
   "outputs": [
    {
     "name": "stderr",
     "output_type": "stream",
     "text": [
      "2022-04-28 13:30:54.608211: W tensorflow/stream_executor/platform/default/dso_loader.cc:60] Could not load dynamic library 'libcudart.so.11.0'; dlerror: libcudart.so.11.0: cannot open shared object file: No such file or directory\n",
      "2022-04-28 13:30:54.608229: I tensorflow/stream_executor/cuda/cudart_stub.cc:29] Ignore above cudart dlerror if you do not have a GPU set up on your machine.\n"
     ]
    }
   ],
   "source": [
    "from translator import translate\n",
    "from transformers import pipeline\n",
    "import pandas as pd\n",
    "import numpy as np\n",
    "import os\n",
    "from src.functions import check,tresh,license_plate\n",
    "import unittest\n",
    "import sys\n",
    "import operator\n",
    "from tqdm import tqdm\n",
    "import nltk\n"
   ]
  },
  {
   "cell_type": "code",
   "execution_count": 2,
   "metadata": {},
   "outputs": [
    {
     "name": "stderr",
     "output_type": "stream",
     "text": [
      "2022-04-28 13:30:57,195 - WARNING - download_and_prepare - Reusing dataset xtreme (/home/nour/.cache/huggingface/datasets/xtreme/XNLI/1.0.0/2fc6b63c5326cc0d1f73060649612889b3a7ed8a6605c91cecdbd228a7158b17) \n"
     ]
    },
    {
     "data": {
      "text/html": [
       "<div>\n",
       "<style scoped>\n",
       "    .dataframe tbody tr th:only-of-type {\n",
       "        vertical-align: middle;\n",
       "    }\n",
       "\n",
       "    .dataframe tbody tr th {\n",
       "        vertical-align: top;\n",
       "    }\n",
       "\n",
       "    .dataframe thead th {\n",
       "        text-align: right;\n",
       "    }\n",
       "</style>\n",
       "<table border=\"1\" class=\"dataframe\">\n",
       "  <thead>\n",
       "    <tr style=\"text-align: right;\">\n",
       "      <th></th>\n",
       "      <th>language</th>\n",
       "      <th>sentence1</th>\n",
       "      <th>sentence2</th>\n",
       "      <th>gold_label</th>\n",
       "    </tr>\n",
       "  </thead>\n",
       "  <tbody>\n",
       "    <tr>\n",
       "      <th>0</th>\n",
       "      <td>ar</td>\n",
       "      <td>حسنا ، لم أكن أفكر حتى حول ذلك ، لكن كنت محبطا...</td>\n",
       "      <td>لم أتحدث معه مرة أخرى.</td>\n",
       "      <td>contradiction</td>\n",
       "    </tr>\n",
       "    <tr>\n",
       "      <th>1</th>\n",
       "      <td>ar</td>\n",
       "      <td>حسنا ، لم أكن أفكر حتى حول ذلك ، لكن كنت محبطا...</td>\n",
       "      <td>كنت مستاء جدا لدرجة أنني بدأت بالحديث معه مرة ...</td>\n",
       "      <td>entailment</td>\n",
       "    </tr>\n",
       "    <tr>\n",
       "      <th>2</th>\n",
       "      <td>ar</td>\n",
       "      <td>حسنا ، لم أكن أفكر حتى حول ذلك ، لكن كنت محبطا...</td>\n",
       "      <td>دار بيننا حديث رائع.</td>\n",
       "      <td>neutral</td>\n",
       "    </tr>\n",
       "    <tr>\n",
       "      <th>3</th>\n",
       "      <td>ar</td>\n",
       "      <td>واعتقدت أن ذلك شرف لي ، ولا يزال ، ولايزال ، ك...</td>\n",
       "      <td>لم أكن على علم بأنني لم أكن الشخص الوحيد الذي ...</td>\n",
       "      <td>neutral</td>\n",
       "    </tr>\n",
       "    <tr>\n",
       "      <th>4</th>\n",
       "      <td>ar</td>\n",
       "      <td>واعتقدت أن ذلك شرف لي ، ولا يزال ، ولايزال ، ك...</td>\n",
       "      <td>كان لدي إنطباع أنني كنت الشخص الوحيد الذي لديه...</td>\n",
       "      <td>entailment</td>\n",
       "    </tr>\n",
       "    <tr>\n",
       "      <th>...</th>\n",
       "      <td>...</td>\n",
       "      <td>...</td>\n",
       "      <td>...</td>\n",
       "      <td>...</td>\n",
       "    </tr>\n",
       "    <tr>\n",
       "      <th>75145</th>\n",
       "      <td>zh</td>\n",
       "      <td>戴维森不应该用“scone”的发音来和“bone”押韵 - 无论如何不是因为维多利亚，而是他...</td>\n",
       "      <td>戴维森不应该以骨头和烤饼听起来一样的方式说话。</td>\n",
       "      <td>entailment</td>\n",
       "    </tr>\n",
       "    <tr>\n",
       "      <th>75146</th>\n",
       "      <td>zh</td>\n",
       "      <td>戴维森不应该用“scone”的发音来和“bone”押韵 - 无论如何不是因为维多利亚，而是他...</td>\n",
       "      <td>如果戴维森押韵饼和骨头的话, 那就更好了。</td>\n",
       "      <td>contradiction</td>\n",
       "    </tr>\n",
       "    <tr>\n",
       "      <th>75147</th>\n",
       "      <td>zh</td>\n",
       "      <td>20万字的小说平均每8000字25美元。</td>\n",
       "      <td>价值25美元的20万字小说价格合理。</td>\n",
       "      <td>neutral</td>\n",
       "    </tr>\n",
       "    <tr>\n",
       "      <th>75148</th>\n",
       "      <td>zh</td>\n",
       "      <td>20万字的小说平均每8000字25美元。</td>\n",
       "      <td>25美元的20万字的小说就是每美元4,000字。</td>\n",
       "      <td>contradiction</td>\n",
       "    </tr>\n",
       "    <tr>\n",
       "      <th>75149</th>\n",
       "      <td>zh</td>\n",
       "      <td>20万字的小说平均每8000字25美元。</td>\n",
       "      <td>25美元的20万字的小说相当于每美元8000个字。</td>\n",
       "      <td>entailment</td>\n",
       "    </tr>\n",
       "  </tbody>\n",
       "</table>\n",
       "<p>75150 rows × 4 columns</p>\n",
       "</div>"
      ],
      "text/plain": [
       "      language                                          sentence1  \\\n",
       "0           ar  حسنا ، لم أكن أفكر حتى حول ذلك ، لكن كنت محبطا...   \n",
       "1           ar  حسنا ، لم أكن أفكر حتى حول ذلك ، لكن كنت محبطا...   \n",
       "2           ar  حسنا ، لم أكن أفكر حتى حول ذلك ، لكن كنت محبطا...   \n",
       "3           ar  واعتقدت أن ذلك شرف لي ، ولا يزال ، ولايزال ، ك...   \n",
       "4           ar  واعتقدت أن ذلك شرف لي ، ولا يزال ، ولايزال ، ك...   \n",
       "...        ...                                                ...   \n",
       "75145       zh  戴维森不应该用“scone”的发音来和“bone”押韵 - 无论如何不是因为维多利亚，而是他...   \n",
       "75146       zh  戴维森不应该用“scone”的发音来和“bone”押韵 - 无论如何不是因为维多利亚，而是他...   \n",
       "75147       zh                               20万字的小说平均每8000字25美元。   \n",
       "75148       zh                               20万字的小说平均每8000字25美元。   \n",
       "75149       zh                               20万字的小说平均每8000字25美元。   \n",
       "\n",
       "                                               sentence2     gold_label  \n",
       "0                                 لم أتحدث معه مرة أخرى.  contradiction  \n",
       "1      كنت مستاء جدا لدرجة أنني بدأت بالحديث معه مرة ...     entailment  \n",
       "2                                   دار بيننا حديث رائع.        neutral  \n",
       "3      لم أكن على علم بأنني لم أكن الشخص الوحيد الذي ...        neutral  \n",
       "4      كان لدي إنطباع أنني كنت الشخص الوحيد الذي لديه...     entailment  \n",
       "...                                                  ...            ...  \n",
       "75145                            戴维森不应该以骨头和烤饼听起来一样的方式说话。     entailment  \n",
       "75146                              如果戴维森押韵饼和骨头的话, 那就更好了。  contradiction  \n",
       "75147                                 价值25美元的20万字小说价格合理。        neutral  \n",
       "75148                           25美元的20万字的小说就是每美元4,000字。  contradiction  \n",
       "75149                          25美元的20万字的小说相当于每美元8000个字。     entailment  \n",
       "\n",
       "[75150 rows x 4 columns]"
      ]
     },
     "execution_count": 2,
     "metadata": {},
     "output_type": "execute_result"
    }
   ],
   "source": [
    "from datasets import load_dataset\n",
    "\n",
    "dataset = load_dataset('xtreme', 'XNLI', split='test')\n",
    "df=pd.DataFrame(dataset)\n",
    "df"
   ]
  },
  {
   "cell_type": "code",
   "execution_count": 3,
   "metadata": {},
   "outputs": [
    {
     "data": {
      "text/html": [
       "<div>\n",
       "<style scoped>\n",
       "    .dataframe tbody tr th:only-of-type {\n",
       "        vertical-align: middle;\n",
       "    }\n",
       "\n",
       "    .dataframe tbody tr th {\n",
       "        vertical-align: top;\n",
       "    }\n",
       "\n",
       "    .dataframe thead th {\n",
       "        text-align: right;\n",
       "    }\n",
       "</style>\n",
       "<table border=\"1\" class=\"dataframe\">\n",
       "  <thead>\n",
       "    <tr style=\"text-align: right;\">\n",
       "      <th></th>\n",
       "      <th>language</th>\n",
       "      <th>sentence1</th>\n",
       "      <th>sentence2</th>\n",
       "      <th>gold_label</th>\n",
       "    </tr>\n",
       "  </thead>\n",
       "  <tbody>\n",
       "    <tr>\n",
       "      <th>30060</th>\n",
       "      <td>fr</td>\n",
       "      <td>Eh bien, je ne pensais même pas à cela, mais j...</td>\n",
       "      <td>Je ne lui ai pas parlé de nouveau</td>\n",
       "      <td>contradiction</td>\n",
       "    </tr>\n",
       "    <tr>\n",
       "      <th>30061</th>\n",
       "      <td>fr</td>\n",
       "      <td>Eh bien, je ne pensais même pas à cela, mais j...</td>\n",
       "      <td>J'étais si contrarié que je commençais juste à...</td>\n",
       "      <td>entailment</td>\n",
       "    </tr>\n",
       "    <tr>\n",
       "      <th>30062</th>\n",
       "      <td>fr</td>\n",
       "      <td>Eh bien, je ne pensais même pas à cela, mais j...</td>\n",
       "      <td>Nous avons eu une grande discussion.</td>\n",
       "      <td>neutral</td>\n",
       "    </tr>\n",
       "    <tr>\n",
       "      <th>30063</th>\n",
       "      <td>fr</td>\n",
       "      <td>Et je pensais que c'était un privilège, et ça ...</td>\n",
       "      <td>Je n'avais pas conscience que je n'étais pas l...</td>\n",
       "      <td>neutral</td>\n",
       "    </tr>\n",
       "    <tr>\n",
       "      <th>30064</th>\n",
       "      <td>fr</td>\n",
       "      <td>Et je pensais que c'était un privilège, et ça ...</td>\n",
       "      <td>J'avais l'impression que j'étais le seul à avo...</td>\n",
       "      <td>entailment</td>\n",
       "    </tr>\n",
       "    <tr>\n",
       "      <th>...</th>\n",
       "      <td>...</td>\n",
       "      <td>...</td>\n",
       "      <td>...</td>\n",
       "      <td>...</td>\n",
       "    </tr>\n",
       "    <tr>\n",
       "      <th>35065</th>\n",
       "      <td>fr</td>\n",
       "      <td>Davidson ne devrait pas adopter la prononciati...</td>\n",
       "      <td>Davidson ne devrait pas parler d'une façon où ...</td>\n",
       "      <td>entailment</td>\n",
       "    </tr>\n",
       "    <tr>\n",
       "      <th>35066</th>\n",
       "      <td>fr</td>\n",
       "      <td>Davidson ne devrait pas adopter la prononciati...</td>\n",
       "      <td>Ce serait mieux que Davidson fasse rimer les m...</td>\n",
       "      <td>contradiction</td>\n",
       "    </tr>\n",
       "    <tr>\n",
       "      <th>35067</th>\n",
       "      <td>fr</td>\n",
       "      <td>Le roman moyen de 200 000 mots pour 25 $ fonct...</td>\n",
       "      <td>Un roman de 200 000 mots à 25 $ est un prix éq...</td>\n",
       "      <td>neutral</td>\n",
       "    </tr>\n",
       "    <tr>\n",
       "      <th>35068</th>\n",
       "      <td>fr</td>\n",
       "      <td>Le roman moyen de 200 000 mots pour 25 $ fonct...</td>\n",
       "      <td>Un roman de 200 000 payé 25 $ revient à 4 000 ...</td>\n",
       "      <td>contradiction</td>\n",
       "    </tr>\n",
       "    <tr>\n",
       "      <th>35069</th>\n",
       "      <td>fr</td>\n",
       "      <td>Le roman moyen de 200 000 mots pour 25 $ fonct...</td>\n",
       "      <td>Un roman de 200 000 mots pour 25 $, ça revient...</td>\n",
       "      <td>entailment</td>\n",
       "    </tr>\n",
       "  </tbody>\n",
       "</table>\n",
       "<p>5010 rows × 4 columns</p>\n",
       "</div>"
      ],
      "text/plain": [
       "      language                                          sentence1  \\\n",
       "30060       fr  Eh bien, je ne pensais même pas à cela, mais j...   \n",
       "30061       fr  Eh bien, je ne pensais même pas à cela, mais j...   \n",
       "30062       fr  Eh bien, je ne pensais même pas à cela, mais j...   \n",
       "30063       fr  Et je pensais que c'était un privilège, et ça ...   \n",
       "30064       fr  Et je pensais que c'était un privilège, et ça ...   \n",
       "...        ...                                                ...   \n",
       "35065       fr  Davidson ne devrait pas adopter la prononciati...   \n",
       "35066       fr  Davidson ne devrait pas adopter la prononciati...   \n",
       "35067       fr  Le roman moyen de 200 000 mots pour 25 $ fonct...   \n",
       "35068       fr  Le roman moyen de 200 000 mots pour 25 $ fonct...   \n",
       "35069       fr  Le roman moyen de 200 000 mots pour 25 $ fonct...   \n",
       "\n",
       "                                               sentence2     gold_label  \n",
       "30060                  Je ne lui ai pas parlé de nouveau  contradiction  \n",
       "30061  J'étais si contrarié que je commençais juste à...     entailment  \n",
       "30062               Nous avons eu une grande discussion.        neutral  \n",
       "30063  Je n'avais pas conscience que je n'étais pas l...        neutral  \n",
       "30064  J'avais l'impression que j'étais le seul à avo...     entailment  \n",
       "...                                                  ...            ...  \n",
       "35065  Davidson ne devrait pas parler d'une façon où ...     entailment  \n",
       "35066  Ce serait mieux que Davidson fasse rimer les m...  contradiction  \n",
       "35067  Un roman de 200 000 mots à 25 $ est un prix éq...        neutral  \n",
       "35068  Un roman de 200 000 payé 25 $ revient à 4 000 ...  contradiction  \n",
       "35069  Un roman de 200 000 mots pour 25 $, ça revient...     entailment  \n",
       "\n",
       "[5010 rows x 4 columns]"
      ]
     },
     "execution_count": 3,
     "metadata": {},
     "output_type": "execute_result"
    }
   ],
   "source": [
    "df_fr=df[df.language=='fr']\n",
    "df_fr"
   ]
  },
  {
   "cell_type": "code",
   "execution_count": 4,
   "metadata": {},
   "outputs": [
    {
     "data": {
      "text/html": [
       "<div>\n",
       "<style scoped>\n",
       "    .dataframe tbody tr th:only-of-type {\n",
       "        vertical-align: middle;\n",
       "    }\n",
       "\n",
       "    .dataframe tbody tr th {\n",
       "        vertical-align: top;\n",
       "    }\n",
       "\n",
       "    .dataframe thead th {\n",
       "        text-align: right;\n",
       "    }\n",
       "</style>\n",
       "<table border=\"1\" class=\"dataframe\">\n",
       "  <thead>\n",
       "    <tr style=\"text-align: right;\">\n",
       "      <th></th>\n",
       "      <th>language</th>\n",
       "      <th>sentence1</th>\n",
       "      <th>sentence2</th>\n",
       "      <th>gold_label</th>\n",
       "    </tr>\n",
       "  </thead>\n",
       "  <tbody>\n",
       "    <tr>\n",
       "      <th>20040</th>\n",
       "      <td>en</td>\n",
       "      <td>Well, I wasn't even thinking about that, but I...</td>\n",
       "      <td>I havent spoken to him again.</td>\n",
       "      <td>contradiction</td>\n",
       "    </tr>\n",
       "    <tr>\n",
       "      <th>20041</th>\n",
       "      <td>en</td>\n",
       "      <td>Well, I wasn't even thinking about that, but I...</td>\n",
       "      <td>I was so upset that I just started talking to ...</td>\n",
       "      <td>entailment</td>\n",
       "    </tr>\n",
       "    <tr>\n",
       "      <th>20042</th>\n",
       "      <td>en</td>\n",
       "      <td>Well, I wasn't even thinking about that, but I...</td>\n",
       "      <td>We had a great talk.</td>\n",
       "      <td>neutral</td>\n",
       "    </tr>\n",
       "    <tr>\n",
       "      <th>20043</th>\n",
       "      <td>en</td>\n",
       "      <td>And I thought that was a privilege, and it's s...</td>\n",
       "      <td>I was not aware that I was not the only person...</td>\n",
       "      <td>neutral</td>\n",
       "    </tr>\n",
       "    <tr>\n",
       "      <th>20044</th>\n",
       "      <td>en</td>\n",
       "      <td>And I thought that was a privilege, and it's s...</td>\n",
       "      <td>I was under the impression that I was the only...</td>\n",
       "      <td>entailment</td>\n",
       "    </tr>\n",
       "    <tr>\n",
       "      <th>...</th>\n",
       "      <td>...</td>\n",
       "      <td>...</td>\n",
       "      <td>...</td>\n",
       "      <td>...</td>\n",
       "    </tr>\n",
       "    <tr>\n",
       "      <th>25045</th>\n",
       "      <td>en</td>\n",
       "      <td>Davidson should not adopt the pronunciation of...</td>\n",
       "      <td>Davidson shouldn't talk in a way where bone an...</td>\n",
       "      <td>entailment</td>\n",
       "    </tr>\n",
       "    <tr>\n",
       "      <th>25046</th>\n",
       "      <td>en</td>\n",
       "      <td>Davidson should not adopt the pronunciation of...</td>\n",
       "      <td>It would be better if Davidson rhymed the word...</td>\n",
       "      <td>contradiction</td>\n",
       "    </tr>\n",
       "    <tr>\n",
       "      <th>25047</th>\n",
       "      <td>en</td>\n",
       "      <td>The average novel of 200,000 words for $25 wor...</td>\n",
       "      <td>A 200,000 word novel at $25 is a fair price.</td>\n",
       "      <td>neutral</td>\n",
       "    </tr>\n",
       "    <tr>\n",
       "      <th>25048</th>\n",
       "      <td>en</td>\n",
       "      <td>The average novel of 200,000 words for $25 wor...</td>\n",
       "      <td>A 200,000 word novel for $25 is 4,000 words pe...</td>\n",
       "      <td>contradiction</td>\n",
       "    </tr>\n",
       "    <tr>\n",
       "      <th>25049</th>\n",
       "      <td>en</td>\n",
       "      <td>The average novel of 200,000 words for $25 wor...</td>\n",
       "      <td>A 200,000 word novel for $25 is 8,000 words pe...</td>\n",
       "      <td>entailment</td>\n",
       "    </tr>\n",
       "  </tbody>\n",
       "</table>\n",
       "<p>5010 rows × 4 columns</p>\n",
       "</div>"
      ],
      "text/plain": [
       "      language                                          sentence1  \\\n",
       "20040       en  Well, I wasn't even thinking about that, but I...   \n",
       "20041       en  Well, I wasn't even thinking about that, but I...   \n",
       "20042       en  Well, I wasn't even thinking about that, but I...   \n",
       "20043       en  And I thought that was a privilege, and it's s...   \n",
       "20044       en  And I thought that was a privilege, and it's s...   \n",
       "...        ...                                                ...   \n",
       "25045       en  Davidson should not adopt the pronunciation of...   \n",
       "25046       en  Davidson should not adopt the pronunciation of...   \n",
       "25047       en  The average novel of 200,000 words for $25 wor...   \n",
       "25048       en  The average novel of 200,000 words for $25 wor...   \n",
       "25049       en  The average novel of 200,000 words for $25 wor...   \n",
       "\n",
       "                                               sentence2     gold_label  \n",
       "20040                      I havent spoken to him again.  contradiction  \n",
       "20041  I was so upset that I just started talking to ...     entailment  \n",
       "20042                               We had a great talk.        neutral  \n",
       "20043  I was not aware that I was not the only person...        neutral  \n",
       "20044  I was under the impression that I was the only...     entailment  \n",
       "...                                                  ...            ...  \n",
       "25045  Davidson shouldn't talk in a way where bone an...     entailment  \n",
       "25046  It would be better if Davidson rhymed the word...  contradiction  \n",
       "25047       A 200,000 word novel at $25 is a fair price.        neutral  \n",
       "25048  A 200,000 word novel for $25 is 4,000 words pe...  contradiction  \n",
       "25049  A 200,000 word novel for $25 is 8,000 words pe...     entailment  \n",
       "\n",
       "[5010 rows x 4 columns]"
      ]
     },
     "execution_count": 4,
     "metadata": {},
     "output_type": "execute_result"
    }
   ],
   "source": [
    "df_en=df[df.language=='en']\n",
    "df_en"
   ]
  },
  {
   "cell_type": "code",
   "execution_count": 5,
   "metadata": {},
   "outputs": [],
   "source": [
    "pipeline = pipeline(\"zero-shot-classification\",\n",
    "                      model=\"facebook/bart-large-mnli\")"
   ]
  },
  {
   "cell_type": "code",
   "execution_count": 6,
   "metadata": {},
   "outputs": [],
   "source": [
    "# # candidate_labels = ['First and last name', 'Mail','Internet protocol (IP) addresses', 'location', 'Date of birth', 'Date of death', 'Place of birth', 'Place of death', 'IP', 'a cookie', 'phone', 'health data','private data','personal data','not personal data','not private data']\n",
    "# name=[\"First and last name\",\"full name\", \"person's name\",\"first name and Family name\",\"person\"]\n",
    "# birth=[\"birthday\"]\n",
    "# # ip=[\"Internet protocol (IP) addresses\",\"IP adress\"]\n",
    "# cookie=[\"cookie identifiers\",\"a cookie\"]\n",
    "# phone=[\"phone numbers\",\"phone number\",\"telphone number\"]\n",
    "# mail=[\"mail addresses\",\"mail address\",\"mail\"]\n",
    "# location=[\"location adress\",\"private postal address\"]\n",
    "# health=[\"health data\",\"medical records\",\"health information\",\"medical information\",\"Medical Procedure names\",\"Medical Procedure identification codes\"]\n",
    "# personal=[\"personal data\",\"personal\",\"personal information\",\"private data\",\"private information\"]\n",
    "# not_personal=[\"not personal data\",\"not personal information\",\"not personal\",\"not private data\",\"not private\",\"not private information\"]\n",
    "# passport=['passport','code']\n",
    "# Driving_license=['driving license','code']\n",
    "# social_security_number=['social security number']\n",
    "# Tax_file_number=['tax file number']\n",
    "# credit_card=['credit card number']\n",
    "# candidate_labels=name+cookie+phone+mail+location+health+personal+not_personal+birth+passport+Driving_license+social_security_number+Tax_file_number+credit_card"
   ]
  },
  {
   "cell_type": "code",
   "execution_count": 10,
   "metadata": {},
   "outputs": [],
   "source": [
    "# candidate_labels = ['First and last name', 'Mail','Internet protocol (IP) addresses', 'location', 'Date of birth', 'Date of death', 'Place of birth', 'Place of death', 'IP', 'a cookie', 'phone', 'health data','private data','personal data','not personal data','not private data']\n",
    "name=[\"Nom et prenom\",\"name and family name\",\"person's name\"]\n",
    "birth=['birthday','private']\n",
    "# ip=[\"Internet protocol (IP) addresses\",\"IP adress\"]\n",
    "cookie=[\"identifiants de cookie\"]\n",
    "phone=[\"numéros de téléphone\",\"phone number\"]\n",
    "mail=[\"courrier electronique\",'mail','email']\n",
    "location=[\"location adress\",\"private postal address\",'adresse postale']\n",
    "health=[\"données de santé\", \"dossiers médicaux\", \" médicales\", \"noms des actes médicaux\", \"codes d'identification des actes médicaux\",\"Medical Procedure identification codes\"]\n",
    "personal=[\"données personnelles\", \"personnel\", \"informations personnelles\", \"données privées\", \"informations privées\"]\n",
    "not_personal=[\"données non personnelles\", \"informations non personnelles\", \"non personnel\", \"données non privées\", \"non privé\", \"informations non privées\"]\n",
    "passeport=['passport']\n",
    "Driving_license=['numero de permis','driving license']\n",
    "social_security_number=['social security number']\n",
    "Tax_file_number=['numéro de dossier fiscal']\n",
    "credit_card=['numéro de carte de crédit']\n",
    "candidate_labels=name+cookie+phone+mail+location+health+personal+not_personal+birth+passeport+Driving_license+social_security_number+Tax_file_number+credit_card"
   ]
  },
  {
   "cell_type": "code",
   "execution_count": 12,
   "metadata": {},
   "outputs": [
    {
     "name": "stderr",
     "output_type": "stream",
     "text": [
      "100%|██████████| 1/1 [00:07<00:00,  7.35s/it]"
     ]
    },
    {
     "name": "stdout",
     "output_type": "stream",
     "text": [
      "Marié à Michelle Robinson en 1992, Barack Obama entre en politique quatre ans plus tard : il est élu au Sénat de l'Illinois, où il effectue trois mandats, de 1997 à 2004.\n",
      "{'person': 0.7697925170262655} \n",
      "\n"
     ]
    },
    {
     "name": "stderr",
     "output_type": "stream",
     "text": [
      "\n"
     ]
    }
   ],
   "source": [
    "text_for_test=\"\"\"Marié à Michelle Robinson en 1992, Barack Obama entre en politique quatre ans plus tard : il est élu au Sénat de l'Illinois, où il effectue trois mandats, de 1997 à 2004.\n",
    "\"\"\"\n",
    "pii_=[(name,'person'),(birth,'birth'),(cookie,'cookie'),(phone,'phone'),(mail,'mail'),(location,'location'),(health,'health'),(personal,'personal'),\n",
    "        (not_personal,'not_personal'),(passeport,\"passport\"),(Driving_license,\"Driving_license\"),(social_security_number,\"social_security_number\"),(Tax_file_number,\"Tax_file_number\")]\n",
    "for txt in  tqdm(nltk.sent_tokenize(text_for_test),total=len(nltk.sent_tokenize(text_for_test))):\n",
    "        # text_translated=translate(txt)\n",
    "        result_details=pipeline(txt, candidate_labels, multi_label=True)\n",
    "        result_details=dict(zip(result_details['labels'],result_details['scores']))\n",
    "        result = {name : np.mean(list(map(result_details.get, lst))) for lst,name in pii_}\n",
    "        result=dict(sorted(result.items(), key=operator.itemgetter(1),reverse=True))\n",
    "        pii_detected={name : result[name] for name in tresh(result)}\n",
    "        print(txt)\n",
    "        pii_detected=check(pii_detected,txt)\n",
    "        if license_plate(txt):\n",
    "                pii_detected[\"license_plate\"]=0.9\n",
    "        if pii_detected!={}:\n",
    "                print(pii_detected,'\\n')\n",
    "        else:\n",
    "                print(\"No PII detected\")\n",
    "# translate\n",
    "# 22s {'person': 0.8287651658058166}"
   ]
  },
  {
   "cell_type": "code",
   "execution_count": 13,
   "metadata": {},
   "outputs": [
    {
     "name": "stderr",
     "output_type": "stream",
     "text": [
      " 50%|█████     | 1/2 [00:19<00:19, 19.60s/it]"
     ]
    },
    {
     "name": "stdout",
     "output_type": "stream",
     "text": [
      "un homme d'État américain.\n",
      "No PII detected\n"
     ]
    },
    {
     "name": "stderr",
     "output_type": "stream",
     "text": [
      "100%|██████████| 2/2 [00:40<00:00, 20.28s/it]"
     ]
    },
    {
     "name": "stdout",
     "output_type": "stream",
     "text": [
      "Il est le 44e président des États-Unis, en fonction du 20 janvier 2009 au 20 janvier 2017.\n",
      "No PII detected\n"
     ]
    },
    {
     "name": "stderr",
     "output_type": "stream",
     "text": [
      "\n"
     ]
    }
   ],
   "source": [
    "text_for_test=\"\"\"un homme d'État américain. Il est le 44e président des États-Unis, en fonction du 20 janvier 2009 au 20 janvier 2017.\n",
    "\"\"\"\n",
    "pii_=[(name,'person'),(birth,'birth'),(cookie,'cookie'),(phone,'phone'),(mail,'mail'),(location,'location'),(health,'health'),(personal,'personal'),\n",
    "        (not_personal,'not_personal'),(passeport,\"passport\"),(Driving_license,\"Driving_license\"),(social_security_number,\"social_security_number\"),(Tax_file_number,\"Tax_file_number\")]\n",
    "for txt in  tqdm(nltk.sent_tokenize(text_for_test),total=len(nltk.sent_tokenize(text_for_test))):\n",
    "        text_translated=translate(txt)\n",
    "        result_details=pipeline(text_translated, candidate_labels, multi_label=True)\n",
    "        result_details=dict(zip(result_details['labels'],result_details['scores']))\n",
    "        result = {name : np.mean(list(map(result_details.get, lst))) for lst,name in pii_}\n",
    "        result=dict(sorted(result.items(), key=operator.itemgetter(1),reverse=True))\n",
    "        pii_detected={name : result[name] for name in tresh(result)}\n",
    "        print(txt)\n",
    "        pii_detected=check(pii_detected,txt)\n",
    "        if license_plate(txt):\n",
    "                pii_detected[\"license_plate\"]=0.9\n",
    "        if pii_detected!={}:\n",
    "                print(pii_detected,'\\n')\n",
    "        else:\n",
    "                print(\"No PII detected\")\n",
    "# translate\n",
    "# 38s No PII detected / No PII detected"
   ]
  },
  {
   "cell_type": "code",
   "execution_count": 14,
   "metadata": {},
   "outputs": [
    {
     "name": "stderr",
     "output_type": "stream",
     "text": [
      "100%|██████████| 1/1 [00:06<00:00,  6.98s/it]"
     ]
    },
    {
     "name": "stdout",
     "output_type": "stream",
     "text": [
      " Toto TITI a fait de la natation pendant 5 ans, entre temps il a refait son passeport de numero 215658125 au consulat\n",
      "passport checked\n",
      "Driving_license checked\n",
      "{'passport': 0.9895483255386353, 'person': 0.677378449589014, 'location': 0.6000065604845682, 'Driving_license': 0.7497215569019318} \n",
      "\n"
     ]
    },
    {
     "name": "stderr",
     "output_type": "stream",
     "text": [
      "\n"
     ]
    }
   ],
   "source": [
    "text_for_test=\"\"\" Toto TITI a fait de la natation pendant 5 ans, entre temps il a refait son passeport de numero 215658125 au consulat\n",
    "\"\"\"\n",
    "pii_=[(name,'person'),(birth,'birth'),(cookie,'cookie'),(phone,'phone'),(mail,'mail'),(location,'location'),(health,'health'),(personal,'personal'),\n",
    "        (not_personal,'not_personal'),(passeport,\"passport\"),(Driving_license,\"Driving_license\"),(social_security_number,\"social_security_number\"),(Tax_file_number,\"Tax_file_number\"),(credit_card,\"credit_card\")]\n",
    "for txt in  tqdm(nltk.sent_tokenize(text_for_test),total=len(nltk.sent_tokenize(text_for_test))):\n",
    "        # text_translated=translate(txt)\n",
    "        result_details=pipeline(txt, candidate_labels, multi_label=True)\n",
    "        result_details=dict(zip(result_details['labels'],result_details['scores']))\n",
    "        result = {name : np.mean(list(map(result_details.get, lst))) for lst,name in pii_}\n",
    "        result=dict(sorted(result.items(), key=operator.itemgetter(1),reverse=True))\n",
    "        pii_detected={name : result[name] for name in tresh(result)}\n",
    "        print(txt)\n",
    "        pii_detected=check(pii_detected,txt)\n",
    "        if license_plate(txt):\n",
    "                pii_detected[\"license_plate\"]=0.9\n",
    "        if pii_detected!={}:\n",
    "                print(pii_detected,'\\n')\n",
    "        else:\n",
    "                print(\"No PII detected\")\n",
    "# translate\n",
    "# 20s {'person': 0.9293522715568543, 'passport': 0.5010863989591599}"
   ]
  },
  {
   "cell_type": "code",
   "execution_count": 15,
   "metadata": {},
   "outputs": [
    {
     "name": "stderr",
     "output_type": "stream",
     "text": [
      "100%|██████████| 1/1 [00:04<00:00,  4.98s/it]"
     ]
    },
    {
     "name": "stdout",
     "output_type": "stream",
     "text": [
      " la plaque d'immatriculation de ma voiture a été volé\n",
      "No PII detected\n"
     ]
    },
    {
     "name": "stderr",
     "output_type": "stream",
     "text": [
      "\n"
     ]
    }
   ],
   "source": [
    "text_for_test=\"\"\" la plaque d'immatriculation de ma voiture a été volé\n",
    "\"\"\"\n",
    "pii_=[(name,'person'),(birth,'birth'),(cookie,'cookie'),(phone,'phone'),(mail,'mail'),(location,'location'),(health,'health'),(personal,'personal'),\n",
    "        (not_personal,'not_personal'),(passeport,\"passport\"),(Driving_license,\"Driving_license\"),(social_security_number,\"social_security_number\"),(Tax_file_number,\"Tax_file_number\")]\n",
    "for txt in  tqdm(nltk.sent_tokenize(text_for_test),total=len(nltk.sent_tokenize(text_for_test))):\n",
    "        # text_translated=translate(txt)\n",
    "        result_details=pipeline(txt, candidate_labels, multi_label=True)\n",
    "        result_details=dict(zip(result_details['labels'],result_details['scores']))\n",
    "        result = {name : np.mean(list(map(result_details.get, lst))) for lst,name in pii_}\n",
    "        result=dict(sorted(result.items(), key=operator.itemgetter(1),reverse=True))\n",
    "        pii_detected={name : result[name] for name in tresh(result)}\n",
    "        print(txt)\n",
    "        pii_detected=check(pii_detected,txt)\n",
    "        if license_plate(txt):\n",
    "                pii_detected[\"license_plate\"]=0.9\n",
    "        if pii_detected!={}:\n",
    "                print(pii_detected,'\\n')\n",
    "        else:\n",
    "                print(\"No PII detected\")\n",
    "# translate\n",
    "# 19s No PII detected"
   ]
  },
  {
   "cell_type": "code",
   "execution_count": 16,
   "metadata": {},
   "outputs": [
    {
     "name": "stderr",
     "output_type": "stream",
     "text": [
      "100%|██████████| 1/1 [00:05<00:00,  5.16s/it]"
     ]
    },
    {
     "name": "stdout",
     "output_type": "stream",
     "text": [
      " le numero de la plaque d'immatriculation de ma voiture est AA-123-BB\n",
      "{'license_plate': 0.9} \n",
      "\n"
     ]
    },
    {
     "name": "stderr",
     "output_type": "stream",
     "text": [
      "\n"
     ]
    }
   ],
   "source": [
    "text_for_test=\"\"\" le numero de la plaque d'immatriculation de ma voiture est AA-123-BB\n",
    "\"\"\"\n",
    "pii_=[(name,'person'),(birth,'birth'),(cookie,'cookie'),(phone,'phone'),(mail,'mail'),(location,'location'),(health,'health'),(personal,'personal'),\n",
    "        (not_personal,'not_personal'),(passeport,\"passport\"),(Driving_license,\"Driving_license\"),(social_security_number,\"social_security_number\"),(Tax_file_number,\"Tax_file_number\")]\n",
    "for txt in  tqdm(nltk.sent_tokenize(text_for_test),total=len(nltk.sent_tokenize(text_for_test))):\n",
    "        # text_translated=translate(txt)\n",
    "        result_details=pipeline(txt, candidate_labels, multi_label=True)\n",
    "        result_details=dict(zip(result_details['labels'],result_details['scores']))\n",
    "        result = {name : np.mean(list(map(result_details.get, lst))) for lst,name in pii_}\n",
    "        result=dict(sorted(result.items(), key=operator.itemgetter(1),reverse=True))\n",
    "        pii_detected={name : result[name] for name in tresh(result)}\n",
    "        print(txt)\n",
    "        pii_detected=check(pii_detected,txt)\n",
    "        if license_plate(txt):\n",
    "                pii_detected[\"license_plate\"]=0.9\n",
    "        if pii_detected!={}:\n",
    "                print(pii_detected,'\\n')\n",
    "        else:\n",
    "                print(\"No PII detected\")\n",
    "# translate\n",
    "# 20s {'Driving_license': 0.6713268160820007, 'license_plate': 0.9}"
   ]
  },
  {
   "cell_type": "code",
   "execution_count": 17,
   "metadata": {},
   "outputs": [
    {
     "name": "stderr",
     "output_type": "stream",
     "text": [
      "100%|██████████| 1/1 [00:06<00:00,  6.23s/it]"
     ]
    },
    {
     "name": "stdout",
     "output_type": "stream",
     "text": [
      " le numero de securite est 2000699352685\n",
      "{'social_security_number': 0.8842569589614868} \n",
      "\n"
     ]
    },
    {
     "name": "stderr",
     "output_type": "stream",
     "text": [
      "\n"
     ]
    }
   ],
   "source": [
    "text_for_test=\"\"\" le numero de securite est 2000699352685\n",
    "\"\"\"\n",
    "pii_=[(name,'person'),(birth,'birth'),(cookie,'cookie'),(phone,'phone'),(mail,'mail'),(location,'location'),(health,'health'),(personal,'personal'),\n",
    "        (not_personal,'not_personal'),(passeport,\"passport\"),(Driving_license,\"Driving_license\"),(social_security_number,\"social_security_number\"),(Tax_file_number,\"Tax_file_number\")]\n",
    "for txt in  tqdm(nltk.sent_tokenize(text_for_test),total=len(nltk.sent_tokenize(text_for_test))):\n",
    "        # text_translated=translate(txt)\n",
    "        result_details=pipeline(txt, candidate_labels, multi_label=True)\n",
    "        result_details=dict(zip(result_details['labels'],result_details['scores']))\n",
    "        result = {name : np.mean(list(map(result_details.get, lst))) for lst,name in pii_}\n",
    "        result=dict(sorted(result.items(), key=operator.itemgetter(1),reverse=True))\n",
    "        pii_detected={name : result[name] for name in tresh(result)}\n",
    "        print(txt)\n",
    "        pii_detected=check(pii_detected,txt)\n",
    "        if license_plate(txt):\n",
    "                pii_detected[\"license_plate\"]=0.9\n",
    "        if pii_detected!={}:\n",
    "                print(pii_detected,'\\n')\n",
    "        else:\n",
    "                print(\"No PII detected\")\n",
    "# translate\n",
    "# 21s {'social_security_number': 0.8903656601905823}"
   ]
  },
  {
   "cell_type": "code",
   "execution_count": 18,
   "metadata": {},
   "outputs": [
    {
     "name": "stderr",
     "output_type": "stream",
     "text": [
      "100%|██████████| 1/1 [00:05<00:00,  5.79s/it]"
     ]
    },
    {
     "name": "stdout",
     "output_type": "stream",
     "text": [
      " Kired Nour Elhouda est née le 28 juin 20000 à Saida Algerie\n",
      "birth checked\n",
      "{'person': 0.8161532282829285, 'birth': 0.5106632728129625} \n",
      "\n"
     ]
    },
    {
     "name": "stderr",
     "output_type": "stream",
     "text": [
      "\n"
     ]
    }
   ],
   "source": [
    "text_for_test=\"\"\" Kired Nour Elhouda est née le 28 juin 20000 à Saida Algerie\n",
    "\"\"\"\n",
    "pii_=[(name,'person'),(birth,'birth'),(cookie,'cookie'),(phone,'phone'),(mail,'mail'),(location,'location'),(health,'health'),(personal,'personal'),\n",
    "        (not_personal,'not_personal'),(passeport,\"passport\"),(Driving_license,\"Driving_license\"),(social_security_number,\"social_security_number\"),(Tax_file_number,\"Tax_file_number\")]\n",
    "for txt in  tqdm(nltk.sent_tokenize(text_for_test),total=len(nltk.sent_tokenize(text_for_test))):\n",
    "        # text_translated=translate(txt)\n",
    "        result_details=pipeline(txt, candidate_labels, multi_label=True)\n",
    "        result_details=dict(zip(result_details['labels'],result_details['scores']))\n",
    "        result = {name : np.mean(list(map(result_details.get, lst))) for lst,name in pii_}\n",
    "        result=dict(sorted(result.items(), key=operator.itemgetter(1),reverse=True))\n",
    "        pii_detected={name : result[name] for name in tresh(result)}\n",
    "        print(txt)\n",
    "        pii_detected=check(pii_detected,txt)\n",
    "        if license_plate(txt):\n",
    "                pii_detected[\"license_plate\"]=0.9\n",
    "        if pii_detected!={}:\n",
    "                print(pii_detected,'\\n')\n",
    "        else:\n",
    "                print(\"No PII detected\")\n",
    "# translate\n",
    "# 21s {'social_security_number': 0.8903656601905823}"
   ]
  },
  {
   "cell_type": "code",
   "execution_count": 19,
   "metadata": {},
   "outputs": [
    {
     "name": "stderr",
     "output_type": "stream",
     "text": [
      " 50%|█████     | 1/2 [00:06<00:06,  6.11s/it]"
     ]
    },
    {
     "name": "stdout",
     "output_type": "stream",
     "text": [
      " you can find my passport in the back of my car, on the left side.\n",
      "No PII detected\n"
     ]
    },
    {
     "name": "stderr",
     "output_type": "stream",
     "text": [
      "100%|██████████| 2/2 [00:12<00:00,  6.02s/it]"
     ]
    },
    {
     "name": "stdout",
     "output_type": "stream",
     "text": [
      "You can call me on  +33(0)6 12 34 56 78\n",
      "{'phone': 0.8489881753921509} \n",
      "\n"
     ]
    },
    {
     "name": "stderr",
     "output_type": "stream",
     "text": [
      "\n"
     ]
    }
   ],
   "source": [
    "text_for_test=\"\"\" you can find my passport in the back of my car, on the left side. You can call me on  +33(0)6 12 34 56 78\n",
    "\"\"\"\n",
    "pii_=[(name,'person'),(birth,'birth'),(cookie,'cookie'),(phone,'phone'),(mail,'mail'),(location,'location'),(health,'health'),(personal,'personal'),\n",
    "        (not_personal,'not_personal'),(passeport,\"passport\"),(Driving_license,\"Driving_license\"),(social_security_number,\"social_security_number\"),(Tax_file_number,\"Tax_file_number\")]\n",
    "for txt in  tqdm(nltk.sent_tokenize(text_for_test),total=len(nltk.sent_tokenize(text_for_test))):\n",
    "        # text_translated=translate(txt)\n",
    "        result_details=pipeline(txt, candidate_labels, multi_label=True)\n",
    "        result_details=dict(zip(result_details['labels'],result_details['scores']))\n",
    "        result = {name : np.mean(list(map(result_details.get, lst))) for lst,name in pii_}\n",
    "        result=dict(sorted(result.items(), key=operator.itemgetter(1),reverse=True))\n",
    "        pii_detected={name : result[name] for name in tresh(result)}\n",
    "        print(txt)\n",
    "        pii_detected=check(pii_detected,txt)\n",
    "        if license_plate(txt):\n",
    "                pii_detected[\"license_plate\"]=0.9\n",
    "        if pii_detected!={}:\n",
    "                print(pii_detected,'\\n')\n",
    "        else:\n",
    "                print(\"No PII detected\")\n",
    "# translate\n",
    "# 26s No PII detected/{'phone': 0.9922093947728475}"
   ]
  },
  {
   "cell_type": "code",
   "execution_count": 9,
   "metadata": {},
   "outputs": [
    {
     "name": "stderr",
     "output_type": "stream",
     "text": [
      "100%|██████████| 1/1 [00:04<00:00,  4.64s/it]"
     ]
    },
    {
     "name": "stdout",
     "output_type": "stream",
     "text": [
      " KIRED Nour Elhouda born 28-06-2000 in Saida, Algeria\n",
      "birth checked\n",
      "{'person': 0.8129440049330393, 'birth': 0.5158457029610872} \n",
      "\n"
     ]
    },
    {
     "name": "stderr",
     "output_type": "stream",
     "text": [
      "\n"
     ]
    }
   ],
   "source": [
    "text_for_test=\"\"\" KIRED Nour Elhouda born 28-06-2000 in Saida, Algeria\n",
    "\"\"\"\n",
    "pii_=[(name,'person'),(birth,'birth'),(cookie,'cookie'),(phone,'phone'),(mail,'mail'),(location,'location'),(health,'health'),(personal,'personal'),\n",
    "        (not_personal,'not_personal'),(passeport,\"passport\"),(Driving_license,\"Driving_license\"),(social_security_number,\"social_security_number\"),(Tax_file_number,\"Tax_file_number\"),(credit_card,\"credit_card\")]\n",
    "for txt in  tqdm(nltk.sent_tokenize(text_for_test),total=len(nltk.sent_tokenize(text_for_test))):\n",
    "        # text_translated=translate(txt)\n",
    "        result_details=pipeline(txt, candidate_labels, multi_label=True)\n",
    "        result_details=dict(zip(result_details['labels'],result_details['scores']))\n",
    "        result = {name : np.mean(list(map(result_details.get, lst))) for lst,name in pii_}\n",
    "        result=dict(sorted(result.items(), key=operator.itemgetter(1),reverse=True))\n",
    "        pii_detected={name : result[name] for name in tresh(result)}\n",
    "        print(txt)\n",
    "        pii_detected=check(pii_detected,txt)\n",
    "        if license_plate(txt):\n",
    "                pii_detected[\"license_plate\"]=0.9\n",
    "        if pii_detected!={}:\n",
    "                print(pii_detected,'\\n')\n",
    "        else:\n",
    "                print(\"No PII detected\")\n",
    "# translate\n",
    "# 54s {'birth': 0.9938105940818787, 'person': 0.9674139738082885, 'health': 0.5278267773489157}"
   ]
  },
  {
   "cell_type": "code",
   "execution_count": 52,
   "metadata": {},
   "outputs": [
    {
     "name": "stderr",
     "output_type": "stream",
     "text": [
      "100%|██████████| 1/1 [00:04<00:00,  4.43s/it]"
     ]
    },
    {
     "name": "stdout",
     "output_type": "stream",
     "text": [
      " KIRED Nour Elhouda lived in 4 allée du lieutenant Lucien Lafay, 31400 Toulouse\n",
      "{'person': 0.7240406970183054, 'location': 0.5996545056502024} \n",
      "\n"
     ]
    },
    {
     "name": "stderr",
     "output_type": "stream",
     "text": [
      "\n"
     ]
    }
   ],
   "source": [
    "text_for_test=\"\"\" KIRED Nour Elhouda lived in 4 allée du lieutenant Lucien Lafay, 31400 Toulouse\n",
    "\"\"\"\n",
    "pii_=[(name,'person'),(birth,'birth'),(cookie,'cookie'),(phone,'phone'),(mail,'mail'),(location,'location'),(health,'health'),(personal,'personal'),\n",
    "        (not_personal,'not_personal'),(passeport,\"passport\"),(Driving_license,\"Driving_license\"),(social_security_number,\"social_security_number\"),(Tax_file_number,\"Tax_file_number\"),(credit_card,\"credit_card\")]\n",
    "for txt in  tqdm(nltk.sent_tokenize(text_for_test),total=len(nltk.sent_tokenize(text_for_test))):\n",
    "        # text_translated=translate(txt)\n",
    "        result_details=pipeline(txt, candidate_labels, multi_label=True)\n",
    "        result_details=dict(zip(result_details['labels'],result_details['scores']))\n",
    "        result = {name : np.mean(list(map(result_details.get, lst))) for lst,name in pii_}\n",
    "        result=dict(sorted(result.items(), key=operator.itemgetter(1),reverse=True))\n",
    "        pii_detected={name : result[name] for name in tresh(result)}\n",
    "        print(txt)\n",
    "        pii_detected=check(pii_detected,txt)\n",
    "        if license_plate(txt):\n",
    "                pii_detected[\"license_plate\"]=0.9\n",
    "        if pii_detected!={}:\n",
    "                print(pii_detected,'\\n')\n",
    "        else:\n",
    "                print(\"No PII detected\")\n",
    "# translate\n",
    "# 54s {'birth': 0.9938105940818787, 'person': 0.9674139738082885, 'health': 0.5278267773489157}"
   ]
  },
  {
   "cell_type": "code",
   "execution_count": 10,
   "metadata": {},
   "outputs": [
    {
     "name": "stderr",
     "output_type": "stream",
     "text": [
      " 10%|█         | 1/10 [00:09<01:23,  9.23s/it]"
     ]
    },
    {
     "name": "stdout",
     "output_type": "stream",
     "text": [
      "je travaille depuis 9 ans en tant qu'assistante commerciale puis chargée de clientèle au sein de l'entreprise de mobilier et décoration pour enfants Nanelle, collaborant avec des clients français mais aussi internationaux.\n",
      "No PII detected\n"
     ]
    },
    {
     "name": "stderr",
     "output_type": "stream",
     "text": [
      " 20%|██        | 2/10 [00:16<01:04,  8.04s/it]"
     ]
    },
    {
     "name": "stdout",
     "output_type": "stream",
     "text": [
      "Aujourd'hui, je suis à la recherche d'un nouveau déni ou la dimension internationale est très presente, notamment avec les pays hispaniques.\n",
      "No PII detected\n"
     ]
    },
    {
     "name": "stderr",
     "output_type": "stream",
     "text": [
      " 30%|███       | 3/10 [00:23<00:51,  7.41s/it]"
     ]
    },
    {
     "name": "stdout",
     "output_type": "stream",
     "text": [
      "Forte de mes expériences passées, je sais être à l'écoute des clients, gérer les situations de crise et j'aime travailler en équipe.\n",
      "No PII detected\n"
     ]
    },
    {
     "name": "stderr",
     "output_type": "stream",
     "text": [
      " 40%|████      | 4/10 [00:34<00:53,  8.91s/it]"
     ]
    },
    {
     "name": "stdout",
     "output_type": "stream",
     "text": [
      "Fort en 3 ans d'expérience en tant que responsable des projets événementiels et marketing opérationnel et 2 ans en tant qu'office manager au sein d'une start-up européenne, j'ai appris à mener des missions très diverses qui m'fait  permis de développer une importance capacité d'adaptation à toutes les situations.\n",
      "No PII detected\n"
     ]
    },
    {
     "name": "stderr",
     "output_type": "stream",
     "text": [
      " 50%|█████     | 5/10 [00:41<00:41,  8.37s/it]"
     ]
    },
    {
     "name": "stdout",
     "output_type": "stream",
     "text": [
      "Aujourd'hui je suis à la recherche d'une nouvelle expérience d'office manager dans une strat-up afin de mettre à profit mes competences pour offrir un environnement  de travail simulant à mes futurs collegues.\n",
      "No PII detected\n"
     ]
    },
    {
     "name": "stderr",
     "output_type": "stream",
     "text": [
      " 60%|██████    | 6/10 [00:49<00:32,  8.18s/it]"
     ]
    },
    {
     "name": "stdout",
     "output_type": "stream",
     "text": [
      "Mon nom est Laval JACQUIN, j'ai 38 ans, j'habite 29 bis chemin de Rivals, mon numéro de téléphone est le +33652105579 et la plaque d'immatriculation de ma voiture est BP-152-FX, mon adresse mail est le l.jaquin@okp4.com.\n",
      "birth checked\n",
      "{'phone': 0.9960117638111115, 'person': 0.9886007507642111, 'location': 0.859113613764445, 'mail': 0.8218120733896891, 'birth': 0.5782013610005379, 'license_plate': 0.9} \n",
      "\n"
     ]
    },
    {
     "name": "stderr",
     "output_type": "stream",
     "text": [
      " 70%|███████   | 7/10 [00:55<00:22,  7.62s/it]"
     ]
    },
    {
     "name": "stdout",
     "output_type": "stream",
     "text": [
      "Issue a Civil Monetary Penalty notice Leading to a fine ranging up to £500,000Issue an Enforcement Notice A formal notice requiring an organisation or individual to take the action specified in the notice in order to bring about compliance with the Act and related laws.\n",
      "No PII detected\n"
     ]
    },
    {
     "name": "stderr",
     "output_type": "stream",
     "text": [
      " 80%|████████  | 8/10 [01:02<00:14,  7.40s/it]"
     ]
    },
    {
     "name": "stdout",
     "output_type": "stream",
     "text": [
      "Failure to comply with a notice is a criminal offence.Request and agree an Undertaking with the organisation A formal undertaking can be given by an organisation to the ICO, committing the organisation to a particular course of action or otherwise achieving compliance.\n",
      "No PII detected\n"
     ]
    },
    {
     "name": "stderr",
     "output_type": "stream",
     "text": [
      " 90%|█████████ | 9/10 [01:08<00:06,  6.77s/it]"
     ]
    },
    {
     "name": "stdout",
     "output_type": "stream",
     "text": [
      "Mohandas Karamchand Gandhi est né le 2 octobre 1869 à Porbandar, dans l'actuel État du Gujarat, en Inde.\n",
      "birth checked\n",
      "{'person': 0.7373657325903574, 'birth': 0.5222652237862349} \n",
      "\n"
     ]
    },
    {
     "name": "stderr",
     "output_type": "stream",
     "text": [
      "100%|██████████| 10/10 [01:15<00:00,  7.52s/it]"
     ]
    },
    {
     "name": "stdout",
     "output_type": "stream",
     "text": [
      "Gandhi est né et a vécu toute sa vie en tant qu'hindou, mais dans une famille ouverte aux autres communautés religieuses, qu'elles soient jaïne, musulmane, ou parsie.\n",
      "No PII detected\n"
     ]
    },
    {
     "name": "stderr",
     "output_type": "stream",
     "text": [
      "\n"
     ]
    }
   ],
   "source": [
    "text_for_test=\"\"\"je travaille depuis 9 ans en tant qu'assistante commerciale puis chargée de clientèle au sein de l'entreprise de mobilier et décoration pour enfants Nanelle, collaborant avec des clients français mais aussi internationaux. \\\n",
    " Aujourd'hui, je suis à la recherche d'un nouveau déni ou la dimension internationale est très presente, notamment avec les pays hispaniques. Forte de mes expériences passées, je sais être à l'écoute des clients, gérer les situations de crise et j'aime travailler en équipe.\\\n",
    " Fort en 3 ans d'expérience en tant que responsable des projets événementiels et marketing opérationnel et 2 ans en tant qu'office manager au sein d'une start-up européenne, j'ai appris à mener des missions très diverses qui m'fait \\\n",
    " permis de développer une importance capacité d'adaptation à toutes les situations. Aujourd'hui je suis à la recherche d'une nouvelle expérience d'office manager dans une strat-up afin de mettre à profit mes competences pour offrir un environnement \\\n",
    " de travail simulant à mes futurs collegues.\\\n",
    " Mon nom est Laval JACQUIN, j'ai 38 ans, j'habite 29 bis chemin de Rivals,\\\n",
    " mon numéro de téléphone est le +33652105579 et la plaque d'immatriculation de ma voiture est BP-152-FX, mon adresse mail est le l.jaquin@okp4.com. \\\n",
    "Issue a Civil Monetary Penalty notice \\\n",
    "Leading to a fine ranging up to £500,000\\\n",
    "Issue an Enforcement Notice \\\n",
    "A formal notice requiring an organisation or individual to take the action specified in the notice in order to bring about compliance \\\n",
    "with the Act and related laws. Failure to comply with a notice is a criminal offence.\\\n",
    "Request and agree an Undertaking with the organisation \\\n",
    "A formal undertaking can be given by an organisation to the ICO, committing the organisation to a particular course of action or \\\n",
    "otherwise achieving compliance. \\\n",
    "Mohandas Karamchand Gandhi est né le 2 octobre 1869 à Porbandar, dans l'actuel État du Gujarat, en Inde. Gandhi est né et a vécu \\\n",
    "toute sa vie en tant qu'hindou, mais dans une famille ouverte aux autres communautés religieuses, qu'elles soient jaïne, musulmane, ou parsie.\"\"\"\n",
    "\n",
    "\n",
    "pii_=[(name,'person'),(birth,'birth'),(cookie,'cookie'),(phone,'phone'),(mail,'mail'),(location,'location'),(health,'health'),(personal,'personal'),\n",
    "        (not_personal,'not_personal'),(passeport,\"passport\"),(Driving_license,\"Driving_license\"),(social_security_number,\"social_security_number\"),(Tax_file_number,\"Tax_file_number\")]\n",
    "for txt in  tqdm(nltk.sent_tokenize(text_for_test),total=len(nltk.sent_tokenize(text_for_test))):\n",
    "        # text_translated=translate(txt)\n",
    "        result_details=pipeline(txt, candidate_labels, multi_label=True)\n",
    "        result_details=dict(zip(result_details['labels'],result_details['scores']))\n",
    "        result = {name : np.mean(list(map(result_details.get, lst))) for lst,name in pii_}\n",
    "        result=dict(sorted(result.items(), key=operator.itemgetter(1),reverse=True))\n",
    "        pii_detected={name : result[name] for name in tresh(result)}\n",
    "        print(txt)\n",
    "        pii_detected=check(pii_detected,txt)\n",
    "        if license_plate(txt):\n",
    "                pii_detected[\"license_plate\"]=0.9\n",
    "        if pii_detected!={}:\n",
    "                print(pii_detected,'\\n')\n",
    "        else:\n",
    "                print(\"No PII detected\")\n",
    "\n",
    "# translate\n",
    "# 2'50s No PII detected /No PII detected/No PII detected/No PII detected/No PII detected/{'person': 0.9767806768417359, 'phone': 0.935712973276774, 'location': 0.519710399210453, 'license_plate': 0.9}/{'person': 0.7851595520973206} /{'person': 0.6726939827203751}\n"
   ]
  },
  {
   "cell_type": "code",
   "execution_count": 11,
   "metadata": {},
   "outputs": [
    {
     "name": "stderr",
     "output_type": "stream",
     "text": [
      " 10%|█         | 1/10 [00:06<01:00,  6.69s/it]"
     ]
    },
    {
     "name": "stdout",
     "output_type": "stream",
     "text": [
      "Je n'en parlerai pas, même s'il y a beaucoup à couvrir.\n",
      "birth checked\n",
      "{'birth': 0.510120808146894} \n",
      "\n"
     ]
    },
    {
     "name": "stderr",
     "output_type": "stream",
     "text": [
      " 20%|██        | 2/10 [00:13<00:55,  6.98s/it]"
     ]
    },
    {
     "name": "stdout",
     "output_type": "stream",
     "text": [
      "Je ne vais pas parler de l'histoire de la ville parce qu'il y aurait trop de choses à dire.\n",
      "birth checked\n",
      "{'birth': 0.5003659430076368} \n",
      "\n"
     ]
    },
    {
     "name": "stderr",
     "output_type": "stream",
     "text": [
      " 30%|███       | 3/10 [00:20<00:48,  6.89s/it]"
     ]
    },
    {
     "name": "stdout",
     "output_type": "stream",
     "text": [
      "Nous nous foutions de mettre de l'argent de côté\n",
      "No PII detected\n"
     ]
    },
    {
     "name": "stderr",
     "output_type": "stream",
     "text": [
      " 40%|████      | 4/10 [00:26<00:37,  6.29s/it]"
     ]
    },
    {
     "name": "stdout",
     "output_type": "stream",
     "text": [
      "Nous voulions sauver quelque chose de plus que le reste.\n",
      "No PII detected\n"
     ]
    },
    {
     "name": "stderr",
     "output_type": "stream",
     "text": [
      " 50%|█████     | 5/10 [00:30<00:27,  5.54s/it]"
     ]
    },
    {
     "name": "stdout",
     "output_type": "stream",
     "text": [
      "On voulait conserver la bombe H parce qu'elle était si difficile à gérer.\n",
      "{'person': 0.5989506347104907} \n",
      "\n"
     ]
    },
    {
     "name": "stderr",
     "output_type": "stream",
     "text": [
      " 60%|██████    | 6/10 [00:34<00:20,  5.00s/it]"
     ]
    },
    {
     "name": "stdout",
     "output_type": "stream",
     "text": [
      "Je connais la raison pour laquelle c’est arrivé.\n",
      "No PII detected\n"
     ]
    },
    {
     "name": "stderr",
     "output_type": "stream",
     "text": [
      " 70%|███████   | 7/10 [00:38<00:13,  4.65s/it]"
     ]
    },
    {
     "name": "stdout",
     "output_type": "stream",
     "text": [
      "Je ne sais pas pourquoi il a changé d'école.\n",
      "No PII detected\n"
     ]
    },
    {
     "name": "stderr",
     "output_type": "stream",
     "text": [
      " 80%|████████  | 8/10 [00:41<00:08,  4.39s/it]"
     ]
    },
    {
     "name": "stdout",
     "output_type": "stream",
     "text": [
      "Je ne sais pas pourquoi c'est arrivé.\n",
      "No PII detected\n"
     ]
    },
    {
     "name": "stderr",
     "output_type": "stream",
     "text": [
      " 90%|█████████ | 9/10 [00:46<00:04,  4.46s/it]"
     ]
    },
    {
     "name": "stdout",
     "output_type": "stream",
     "text": [
      "Fannie Flono a dû reporter et n'est pas en mesure de nous raconter d'histoires aujourd'hui.\n",
      "No PII detected\n"
     ]
    },
    {
     "name": "stderr",
     "output_type": "stream",
     "text": [
      "100%|██████████| 10/10 [00:51<00:00,  5.19s/it]"
     ]
    },
    {
     "name": "stdout",
     "output_type": "stream",
     "text": [
      "Fannie Flono est ici et elle va nous parler de ses histoires d'enfance de l'endroit ou elle a grandit, à Augusta, GA.\n",
      "{'person': 0.6568525210022926} \n",
      "\n"
     ]
    },
    {
     "name": "stderr",
     "output_type": "stream",
     "text": [
      "\n"
     ]
    }
   ],
   "source": [
    "\n",
    "pii_=[(name,'person'),(birth,'birth'),(cookie,'cookie'),(phone,'phone'),(mail,'mail'),(location,'location'),(health,'health'),(personal,'personal'),\n",
    "        (not_personal,'not_personal'),(passeport,\"passport\"),(Driving_license,\"Driving_license\"),(social_security_number,\"social_security_number\"),(Tax_file_number,\"Tax_file_number\")]\n",
    "for row in  tqdm((df_fr['sentence2'][10:20]),total=10):\n",
    "    txt=nltk.sent_tokenize(row)\n",
    "    for sent in txt:\n",
    "        # text_translated=translate(sent)\n",
    "        result_details=pipeline(sent, candidate_labels, multi_label=True)\n",
    "        result_details=dict(zip(result_details['labels'],result_details['scores']))\n",
    "        result = {name : np.mean(list(map(result_details.get, lst))) for lst,name in pii_}\n",
    "        pii_detected={name : result[name] for name in tresh(result)}\n",
    "        print(sent)\n",
    "        pii_detected=check(pii_detected,sent)\n",
    "        if license_plate(sent):\n",
    "                pii_detected[\"license_plate\"]=0.9\n",
    "        if pii_detected!={}:\n",
    "                print(pii_detected,'\\n')\n",
    "        else:\n",
    "                print(\"No PII detected\")\n",
    "\n",
    "# translate\n",
    "# 3'21s No PII detected/No PII detected/No PII detected/No PII detected/No PII detected/No PII detected/No PII detected/No PII detected/{'person': 0.5827060759067535} /{'person': 0.880791163444519}"
   ]
  },
  {
   "cell_type": "code",
   "execution_count": 15,
   "metadata": {},
   "outputs": [
    {
     "name": "stderr",
     "output_type": "stream",
     "text": [
      " 10%|█         | 1/10 [00:07<01:09,  7.67s/it]"
     ]
    },
    {
     "name": "stdout",
     "output_type": "stream",
     "text": [
      "لن أتحدث عن ذلك ، على الرغم من أن هناك الكثير لتغطيته.\n",
      "No PII detected\n"
     ]
    },
    {
     "name": "stderr",
     "output_type": "stream",
     "text": [
      " 20%|██        | 2/10 [00:15<01:02,  7.75s/it]"
     ]
    },
    {
     "name": "stdout",
     "output_type": "stream",
     "text": [
      "لن أتحدث عن تاريخ المدينة لأن هناك الكثير مما يمكن قوله حولها.\n",
      "No PII detected\n"
     ]
    },
    {
     "name": "stderr",
     "output_type": "stream",
     "text": [
      " 30%|███       | 3/10 [00:20<00:46,  6.64s/it]"
     ]
    },
    {
     "name": "stdout",
     "output_type": "stream",
     "text": [
      "لم نهتم بحفظ أي شيء.\n",
      "No PII detected\n"
     ]
    },
    {
     "name": "stderr",
     "output_type": "stream",
     "text": [
      " 40%|████      | 4/10 [00:26<00:38,  6.46s/it]"
     ]
    },
    {
     "name": "stdout",
     "output_type": "stream",
     "text": [
      "أردنا إنقاذ شيء واحد أكثر من الباقي.\n",
      "No PII detected\n"
     ]
    },
    {
     "name": "stderr",
     "output_type": "stream",
     "text": [
      " 50%|█████     | 5/10 [00:33<00:33,  6.61s/it]"
     ]
    },
    {
     "name": "stdout",
     "output_type": "stream",
     "text": [
      "أردنا إنقاذ قنبلة h-bomb لأنه كان من الصعب التعامل معها.\n",
      "No PII detected\n"
     ]
    },
    {
     "name": "stderr",
     "output_type": "stream",
     "text": [
      " 60%|██████    | 6/10 [00:39<00:24,  6.16s/it]"
     ]
    },
    {
     "name": "stdout",
     "output_type": "stream",
     "text": [
      "أنا متأكد من سبب ذلك.\n",
      "No PII detected\n"
     ]
    },
    {
     "name": "stderr",
     "output_type": "stream",
     "text": [
      " 70%|███████   | 7/10 [00:43<00:16,  5.65s/it]"
     ]
    },
    {
     "name": "stdout",
     "output_type": "stream",
     "text": [
      "لا أعرف لماذا قام بنقل المدارس.\n",
      "No PII detected\n"
     ]
    },
    {
     "name": "stderr",
     "output_type": "stream",
     "text": [
      " 80%|████████  | 8/10 [00:48<00:10,  5.23s/it]"
     ]
    },
    {
     "name": "stdout",
     "output_type": "stream",
     "text": [
      "لا أعرف لماذا حدث هذا.\n",
      "No PII detected\n"
     ]
    },
    {
     "name": "stderr",
     "output_type": "stream",
     "text": [
      " 90%|█████████ | 9/10 [00:56<00:06,  6.23s/it]"
     ]
    },
    {
     "name": "stdout",
     "output_type": "stream",
     "text": [
      "كان على فاني فلونو إعادة تعيين جدول الأعمال وهي غير قادرة على إخبارنا بأية قصص اليوم.\n",
      "No PII detected\n"
     ]
    },
    {
     "name": "stderr",
     "output_type": "stream",
     "text": [
      "100%|██████████| 10/10 [01:04<00:00,  6.43s/it]"
     ]
    },
    {
     "name": "stdout",
     "output_type": "stream",
     "text": [
      "فاني فلونو هنا وستتحدث إلينا عن قصص طفولتها التي نشأت في أوغستا ، جورجيا.\n",
      "No PII detected\n"
     ]
    },
    {
     "name": "stderr",
     "output_type": "stream",
     "text": [
      "\n"
     ]
    }
   ],
   "source": [
    "\n",
    "pii_=[(name,'person'),(birth,'birth'),(cookie,'cookie'),(phone,'phone'),(mail,'mail'),(location,'location'),(health,'health'),(personal,'personal'),\n",
    "        (not_personal,'not_personal'),(passeport,\"passport\"),(Driving_license,\"Driving_license\"),(social_security_number,\"social_security_number\"),(Tax_file_number,\"Tax_file_number\")]\n",
    "for row in  tqdm((df['sentence2'][10:20]),total=10):\n",
    "    txt=nltk.sent_tokenize(row)\n",
    "    for sent in txt:\n",
    "        # text_translated=translate(sent)\n",
    "        result_details=pipeline(sent, candidate_labels, multi_label=True)\n",
    "        result_details=dict(zip(result_details['labels'],result_details['scores']))\n",
    "        result = {name : np.mean(list(map(result_details.get, lst))) for lst,name in pii_}\n",
    "        pii_detected={name : result[name] for name in tresh(result)}\n",
    "        print(sent)\n",
    "        pii_detected=check(pii_detected,sent)\n",
    "        if license_plate(sent):\n",
    "                pii_detected[\"license_plate\"]=0.9\n",
    "        if pii_detected!={}:\n",
    "                print(pii_detected,'\\n')\n",
    "        else:\n",
    "                print(\"No PII detected\")\n",
    "\n",
    "# translate\n",
    "# 3'21s No PII detected/No PII detected/No PII detected/No PII detected/No PII detected/No PII detected/No PII detected/No PII detected/{'person': 0.5827060759067535} /{'person': 0.880791163444519}"
   ]
  },
  {
   "cell_type": "code",
   "execution_count": 11,
   "metadata": {},
   "outputs": [
    {
     "name": "stderr",
     "output_type": "stream",
     "text": [
      " 10%|█         | 1/10 [00:04<00:41,  4.65s/it]"
     ]
    },
    {
     "name": "stdout",
     "output_type": "stream",
     "text": [
      "{'private': 0.9945345520973206, 'non privé': 0.8859943747520447, 'informations non privées': 0.8283578157424927, 'non personnel': 0.7515348196029663, 'informations non personnelles': 0.6453291177749634, 'informations privées': 0.5549554228782654, 'informations personnelles': 0.42160549759864807, 'données non privées': 0.4158676862716675, 'données non personnelles': 0.3695247173309326, 'personnel': 0.289412260055542, 'dossiers médicaux': 0.28686320781707764, ' médicales': 0.26644623279571533, 'numéro de dossier fiscal': 0.2628457546234131, 'noms des actes médicaux': 0.2276528924703598, 'adresse postale': 0.21384915709495544, 'données privées': 0.15129037201404572, 'private postal address': 0.14087291061878204, 'numéro de carte de crédit': 0.1396367847919464, 'numéros de téléphone': 0.12542717158794403, 'location adress': 0.12241769582033157, 'name and family name': 0.11758584529161453, 'Medical Procedure identification codes': 0.11241283267736435, \"codes d'identification des actes médicaux\": 0.10504107922315598, 'données personnelles': 0.10363908857107162, 'courrier electronique': 0.09091346710920334, 'données de santé': 0.056612107902765274, \"person's name\": 0.05435400828719139, 'Nom et prenom': 0.04760637879371643, 'phone number': 0.039303071796894073, 'mail': 0.03396090120077133, 'email': 0.030501333996653557, 'passport': 0.02953134849667549, 'birthday': 0.02862405776977539, 'social security number': 0.02776450477540493, 'numero de permis': 0.026819340884685516, 'driving license': 0.025399455800652504, 'identifiants de cookie': 0.013612915761768818}\n",
      "I won't talk about that, even though there's a lot to cover.\n",
      "No PII detected\n"
     ]
    },
    {
     "name": "stderr",
     "output_type": "stream",
     "text": [
      " 20%|██        | 2/10 [00:11<00:45,  5.74s/it]"
     ]
    },
    {
     "name": "stdout",
     "output_type": "stream",
     "text": [
      "{'private': 0.9496273398399353, 'non privé': 0.5999212265014648, 'informations non privées': 0.5541610717773438, 'informations non personnelles': 0.3458573520183563, 'données non privées': 0.32920828461647034, 'données non personnelles': 0.29114991426467896, 'adresse postale': 0.16717331111431122, 'numéro de carte de crédit': 0.10822229087352753, 'non personnel': 0.10756813734769821, 'données privées': 0.08126766979694366, 'informations privées': 0.07091555744409561, 'données personnelles': 0.06890197098255157, 'courrier electronique': 0.053239647299051285, 'Nom et prenom': 0.05191493034362793, 'numéro de dossier fiscal': 0.05059781298041344, 'noms des actes médicaux': 0.04391191527247429, ' médicales': 0.04333028197288513, 'location adress': 0.03904550150036812, 'private postal address': 0.03769258037209511, 'données de santé': 0.03641970828175545, 'numero de permis': 0.03249133750796318, 'dossiers médicaux': 0.0230263639241457, 'informations personnelles': 0.017905287444591522, 'numéros de téléphone': 0.015560043975710869, 'name and family name': 0.013787645846605301, \"person's name\": 0.013736954890191555, 'passport': 0.00988070759922266, 'personnel': 0.007747456431388855, 'phone number': 0.006683441810309887, \"codes d'identification des actes médicaux\": 0.0064506251364946365, 'identifiants de cookie': 0.004581917077302933, 'mail': 0.002795201726257801, 'birthday': 0.002535225823521614, 'email': 0.0019274209626019, 'driving license': 0.001676988904364407, 'social security number': 0.001649174140766263, 'Medical Procedure identification codes': 0.0008426577551290393}\n",
      "I wont talk about the history of the city because there's too much to say.\n",
      "No PII detected\n"
     ]
    },
    {
     "name": "stderr",
     "output_type": "stream",
     "text": [
      " 30%|███       | 3/10 [00:17<00:43,  6.23s/it]"
     ]
    },
    {
     "name": "stdout",
     "output_type": "stream",
     "text": [
      "{'non personnel': 0.7757958769798279, 'private': 0.5061787366867065, 'données non personnelles': 0.4697575569152832, 'personnel': 0.42473646998405457, 'dossiers médicaux': 0.3771795630455017, 'courrier electronique': 0.3674100339412689, 'adresse postale': 0.3408644199371338, 'données non privées': 0.3299582004547119, 'noms des actes médicaux': 0.3188270330429077, 'données personnelles': 0.3168847858905792, 'informations privées': 0.316445529460907, 'informations non personnelles': 0.3064540922641754, 'numéro de carte de crédit': 0.30572888255119324, 'numéro de dossier fiscal': 0.30351823568344116, 'données privées': 0.30143189430236816, ' médicales': 0.29885393381118774, 'numéros de téléphone': 0.2692176103591919, 'données de santé': 0.25895896553993225, 'Nom et prenom': 0.2588619291782379, 'informations non privées': 0.21779893338680267, \"codes d'identification des actes médicaux\": 0.17753085494041443, 'location adress': 0.1721637099981308, 'email': 0.16917788982391357, 'informations personnelles': 0.13702140748500824, 'numero de permis': 0.13267625868320465, 'non privé': 0.12336979806423187, 'mail': 0.10515209287405014, 'Medical Procedure identification codes': 0.09320856630802155, 'passport': 0.08122460544109344, 'driving license': 0.06805100291967392, 'private postal address': 0.06337393075227737, 'identifiants de cookie': 0.04909873381257057, 'phone number': 0.04017334803938866, 'name and family name': 0.03687997907400131, 'birthday': 0.03519388660788536, 'social security number': 0.026627590879797935, \"person's name\": 0.019610881805419922}\n",
      "We didn't care about saving anything.\n",
      "No PII detected\n"
     ]
    },
    {
     "name": "stderr",
     "output_type": "stream",
     "text": [
      " 40%|████      | 4/10 [00:24<00:37,  6.25s/it]"
     ]
    },
    {
     "name": "stdout",
     "output_type": "stream",
     "text": [
      "{'private': 0.540831446647644, 'dossiers médicaux': 0.4954679012298584, 'informations privées': 0.4938788115978241, 'personnel': 0.4848339259624481, 'adresse postale': 0.48393571376800537, 'informations personnelles': 0.47968199849128723, ' médicales': 0.4794713258743286, 'informations non privées': 0.4780026376247406, 'non privé': 0.43862104415893555, 'numéro de dossier fiscal': 0.4314919710159302, 'noms des actes médicaux': 0.42808961868286133, 'courrier electronique': 0.42500776052474976, 'données de santé': 0.42078524827957153, 'données non personnelles': 0.40714552998542786, 'données privées': 0.3943219482898712, 'données non privées': 0.39134788513183594, 'informations non personnelles': 0.38785260915756226, 'numéro de carte de crédit': 0.3723030388355255, 'données personnelles': 0.36058032512664795, 'non personnel': 0.35685423016548157, 'numéros de téléphone': 0.33760562539100647, 'numero de permis': 0.32388487458229065, 'Nom et prenom': 0.31942740082740784, 'location adress': 0.3186260163784027, 'name and family name': 0.28412285447120667, \"codes d'identification des actes médicaux\": 0.2523905038833618, 'email': 0.24709172546863556, 'identifiants de cookie': 0.22543947398662567, 'Medical Procedure identification codes': 0.1990281641483307, 'private postal address': 0.18104976415634155, 'passport': 0.17906688153743744, 'phone number': 0.1671592891216278, 'birthday': 0.16127364337444305, 'mail': 0.15178914368152618, \"person's name\": 0.10517769306898117, 'driving license': 0.08401616662740707, 'social security number': 0.06647558510303497}\n",
      "We wanted to save one thing more than the rest.\n",
      "No PII detected\n"
     ]
    },
    {
     "name": "stderr",
     "output_type": "stream",
     "text": [
      " 50%|█████     | 5/10 [00:30<00:30,  6.18s/it]"
     ]
    },
    {
     "name": "stdout",
     "output_type": "stream",
     "text": [
      "{'name and family name': 0.22917945683002472, \"person's name\": 0.2059929370880127, 'private': 0.08943195641040802, 'adresse postale': 0.07830590754747391, 'personnel': 0.041126325726509094, 'informations privées': 0.03846482187509537, 'informations personnelles': 0.035538967698812485, 'non personnel': 0.029942065477371216, 'non privé': 0.028454339131712914, 'noms des actes médicaux': 0.028194790706038475, \"codes d'identification des actes médicaux\": 0.025499604642391205, 'informations non personnelles': 0.02337723784148693, 'données privées': 0.019616492092609406, 'Medical Procedure identification codes': 0.01959064230322838, 'données non personnelles': 0.01843201369047165, 'données personnelles': 0.01341139804571867, 'informations non privées': 0.013302178122103214, 'location adress': 0.01226391177624464, 'données non privées': 0.011436005122959614, 'numéro de dossier fiscal': 0.009165904484689236, 'private postal address': 0.00731424055993557, 'numero de permis': 0.006207449361681938, 'courrier electronique': 0.0048917015083134174, ' médicales': 0.004267227835953236, 'phone number': 0.0032750496175140142, 'dossiers médicaux': 0.0030022128485143185, 'Nom et prenom': 0.0026659532450139523, 'email': 0.002415655879303813, 'données de santé': 0.002032825257629156, 'driving license': 0.0017820852808654308, 'numéro de carte de crédit': 0.0015925855841487646, 'mail': 0.0010581410024315119, 'birthday': 0.0009223032975569367, 'numéros de téléphone': 0.0009011653019115329, 'social security number': 0.0008632480748929083, 'passport': 0.0004977370845153928, 'identifiants de cookie': 0.00040137977339327335}\n",
      "We wanted to save the h-bomb because it was so hard to deal with.\n",
      "No PII detected\n"
     ]
    },
    {
     "name": "stderr",
     "output_type": "stream",
     "text": [
      " 60%|██████    | 6/10 [00:35<00:23,  5.91s/it]"
     ]
    },
    {
     "name": "stdout",
     "output_type": "stream",
     "text": [
      "{'courrier electronique': 0.5699849724769592, 'dossiers médicaux': 0.5627564787864685, 'Nom et prenom': 0.5189926624298096, 'adresse postale': 0.5037347078323364, 'informations personnelles': 0.4858625531196594, 'numéro de carte de crédit': 0.4715506136417389, ' médicales': 0.4146079123020172, 'données de santé': 0.4107910394668579, 'données personnelles': 0.394332617521286, 'données non personnelles': 0.38680726289749146, 'numéros de téléphone': 0.38537275791168213, 'personnel': 0.3764035701751709, 'numéro de dossier fiscal': 0.3753111660480499, 'noms des actes médicaux': 0.3605867624282837, 'name and family name': 0.3510189354419708, 'email': 0.31971925497055054, 'numero de permis': 0.3110775649547577, 'données non privées': 0.3068927228450775, 'données privées': 0.2919885516166687, \"codes d'identification des actes médicaux\": 0.2760336995124817, 'informations privées': 0.2626468539237976, 'informations non privées': 0.21963386237621307, 'non privé': 0.20214346051216125, 'passport': 0.19206468760967255, 'mail': 0.17580491304397583, 'identifiants de cookie': 0.17438963055610657, 'location adress': 0.16779348254203796, 'Medical Procedure identification codes': 0.15880826115608215, 'informations non personnelles': 0.1567009836435318, 'driving license': 0.1388416290283203, 'private': 0.13340646028518677, 'birthday': 0.10504897683858871, 'non personnel': 0.1045309454202652, 'private postal address': 0.09300076216459274, \"person's name\": 0.061785854399204254, 'phone number': 0.05824537202715874, 'social security number': 0.05684133991599083}\n",
      "I am certain as to the reason why.\n",
      "No PII detected\n"
     ]
    },
    {
     "name": "stderr",
     "output_type": "stream",
     "text": [
      " 70%|███████   | 7/10 [00:41<00:17,  5.79s/it]"
     ]
    },
    {
     "name": "stdout",
     "output_type": "stream",
     "text": [
      "{'personnel': 0.9232991337776184, 'informations non privées': 0.37939900159835815, 'données privées': 0.35064953565597534, \"person's name\": 0.3496931195259094, 'informations non personnelles': 0.3356982469558716, 'données non personnelles': 0.33140891790390015, 'informations privées': 0.3307693898677826, 'données non privées': 0.32802602648735046, 'courrier electronique': 0.32503366470336914, 'numéro de dossier fiscal': 0.32073333859443665, 'noms des actes médicaux': 0.3200971186161041, 'adresse postale': 0.317177951335907, 'informations personnelles': 0.31146761775016785, 'dossiers médicaux': 0.3039035201072693, 'non personnel': 0.28417566418647766, 'numéro de carte de crédit': 0.25566184520721436, 'données personnelles': 0.24906545877456665, 'données de santé': 0.2392922341823578, 'location adress': 0.2354397028684616, 'numero de permis': 0.20267760753631592, ' médicales': 0.19893860816955566, 'non privé': 0.1927541345357895, 'Nom et prenom': 0.1853269636631012, 'name and family name': 0.15178970992565155, 'email': 0.1299758106470108, \"codes d'identification des actes médicaux\": 0.12397993355989456, 'Medical Procedure identification codes': 0.04211009293794632, 'numéros de téléphone': 0.0416003093123436, 'identifiants de cookie': 0.03446614742279053, 'passport': 0.02712239883840084, 'private': 0.026340661570429802, 'private postal address': 0.024730583652853966, 'mail': 0.023521270602941513, 'phone number': 0.018378734588623047, 'birthday': 0.01757407933473587, 'driving license': 0.0040291170589625835, 'social security number': 0.0022184615954756737}\n",
      "I don't know why he transferred schools.\n",
      "No PII detected\n"
     ]
    },
    {
     "name": "stderr",
     "output_type": "stream",
     "text": [
      " 80%|████████  | 8/10 [00:46<00:11,  5.68s/it]"
     ]
    },
    {
     "name": "stdout",
     "output_type": "stream",
     "text": [
      "{'private': 0.6107561588287354, 'données non personnelles': 0.48805466294288635, 'dossiers médicaux': 0.4810478985309601, 'informations non privées': 0.4487193524837494, 'adresse postale': 0.4459368884563446, 'courrier electronique': 0.43433690071105957, 'données non privées': 0.4328211843967438, 'informations non personnelles': 0.3983699083328247, 'données privées': 0.3916398584842682, 'numéro de carte de crédit': 0.3799601197242737, ' médicales': 0.36390790343284607, 'données personnelles': 0.36032089591026306, 'informations privées': 0.3472030758857727, 'noms des actes médicaux': 0.34445348381996155, 'non privé': 0.3411942720413208, 'numéros de téléphone': 0.33702683448791504, 'Nom et prenom': 0.3361336886882782, 'non personnel': 0.32249143719673157, 'données de santé': 0.32034727931022644, 'numéro de dossier fiscal': 0.3186151683330536, 'personnel': 0.30490347743034363, 'informations personnelles': 0.24850711226463318, 'email': 0.22730693221092224, 'numero de permis': 0.19940027594566345, 'location adress': 0.18990907073020935, 'passport': 0.18301889300346375, 'name and family name': 0.17458674311637878, 'mail': 0.14147235453128815, \"codes d'identification des actes médicaux\": 0.1387566775083542, 'driving license': 0.11193448305130005, 'Medical Procedure identification codes': 0.0918913260102272, 'private postal address': 0.07769202440977097, 'phone number': 0.05995617061853409, 'identifiants de cookie': 0.051204025745391846, \"person's name\": 0.040490780025720596, 'social security number': 0.03660659119486809, 'birthday': 0.024572858586907387}\n",
      "I don't know why that happened.\n",
      "No PII detected\n"
     ]
    },
    {
     "name": "stderr",
     "output_type": "stream",
     "text": [
      " 90%|█████████ | 9/10 [00:53<00:05,  5.98s/it]"
     ]
    },
    {
     "name": "stdout",
     "output_type": "stream",
     "text": [
      "{'personnel': 0.9679994583129883, \"person's name\": 0.9094294309616089, 'private': 0.8992266058921814, 'name and family name': 0.8893520832061768, 'informations non privées': 0.8819746971130371, 'informations non personnelles': 0.7601985931396484, 'non personnel': 0.7124296426773071, 'données non privées': 0.6918005347251892, 'informations personnelles': 0.6738260984420776, 'non privé': 0.5765244364738464, 'informations privées': 0.5340037941932678, 'données non personnelles': 0.5275666117668152, 'adresse postale': 0.48060885071754456, 'numéro de carte de crédit': 0.3723325729370117, 'données privées': 0.32900795340538025, 'location adress': 0.311132550239563, 'numéro de dossier fiscal': 0.2930653989315033, ' médicales': 0.2516530156135559, 'dossiers médicaux': 0.24321377277374268, 'numero de permis': 0.22124312818050385, 'données personnelles': 0.20110514760017395, 'numéros de téléphone': 0.1886569857597351, 'noms des actes médicaux': 0.1699378490447998, 'phone number': 0.1605224311351776, 'private postal address': 0.15166406333446503, 'courrier electronique': 0.13029831647872925, \"codes d'identification des actes médicaux\": 0.1285029798746109, 'données de santé': 0.12324532121419907, 'passport': 0.09591978043317795, 'Medical Procedure identification codes': 0.08314383774995804, 'Nom et prenom': 0.06896419078111649, 'birthday': 0.06285706162452698, 'mail': 0.05333983898162842, 'email': 0.04768246412277222, 'social security number': 0.033242277801036835, 'driving license': 0.032836999744176865, 'identifiants de cookie': 0.021021097898483276}\n",
      "Fannie Flono had to reschedule and is unable to tell us any stories today.\n",
      "{'person': 0.622581901649634} \n",
      "\n"
     ]
    },
    {
     "name": "stderr",
     "output_type": "stream",
     "text": [
      "100%|██████████| 10/10 [00:59<00:00,  5.93s/it]"
     ]
    },
    {
     "name": "stdout",
     "output_type": "stream",
     "text": [
      "{'name and family name': 0.9946346879005432, \"person's name\": 0.9725118279457092, 'location adress': 0.8092573881149292, 'informations personnelles': 0.40207475423812866, 'non personnel': 0.38204821944236755, 'informations privées': 0.2999437749385834, 'données privées': 0.2721082270145416, 'adresse postale': 0.24156689643859863, 'informations non privées': 0.18175002932548523, 'données non personnelles': 0.1430959701538086, 'données non privées': 0.13041952252388, 'données de santé': 0.12517650425434113, 'Nom et prenom': 0.12435545027256012, 'birthday': 0.11698594689369202, 'données personnelles': 0.11499765515327454, 'informations non personnelles': 0.11405400931835175, 'non privé': 0.08861041069030762, 'numéro de dossier fiscal': 0.0630500391125679, 'private postal address': 0.0530509315431118, 'numero de permis': 0.05233291536569595, 'phone number': 0.04713309556245804, 'courrier electronique': 0.04251214489340782, 'numéro de carte de crédit': 0.041952479630708694, 'noms des actes médicaux': 0.04123625159263611, 'personnel': 0.03121723234653473, 'private': 0.025590956211090088, 'passport': 0.0232348944991827, \"codes d'identification des actes médicaux\": 0.019585803151130676, 'identifiants de cookie': 0.014856410212814808, 'numéros de téléphone': 0.013748769648373127, ' médicales': 0.01219557411968708, 'dossiers médicaux': 0.011025823652744293, 'mail': 0.010485664010047913, 'driving license': 0.0046395789831876755, 'email': 0.0020083202980458736, 'Medical Procedure identification codes': 0.0008367288392037153, 'social security number': 0.0004534236213658005}\n",
      "Fannie Flono is here and she is going to speak to us about her childhood stories from growing up in Augusta, GA.\n",
      "{'person': 0.6971673220396042} \n",
      "\n"
     ]
    },
    {
     "name": "stderr",
     "output_type": "stream",
     "text": [
      "\n"
     ]
    }
   ],
   "source": [
    "\n",
    "pii_=[(name,'person'),(birth,'birth'),(cookie,'cookie'),(phone,'phone'),(mail,'mail'),(location,'location'),(health,'health'),(personal,'personal'),\n",
    "        (not_personal,'not_personal'),(passeport,\"passport\"),(Driving_license,\"Driving_license\"),(social_security_number,\"social_security_number\"),(Tax_file_number,\"Tax_file_number\")]\n",
    "for row in  tqdm((df_en['sentence2'][10:20]),total=10):\n",
    "    txt=nltk.sent_tokenize(row)\n",
    "    for sent in txt:\n",
    "        # text_translated=translate(sent)\n",
    "        result_details=pipeline(sent, candidate_labels, multi_label=True)\n",
    "        result_details=dict(zip(result_details['labels'],result_details['scores']))\n",
    "        print(result_details)\n",
    "        result = {name : np.mean(list(map(result_details.get, lst))) for lst,name in pii_}\n",
    "        pii_detected={name : result[name] for name in tresh(result)}\n",
    "        print(sent)\n",
    "        pii_detected=check(pii_detected,sent)\n",
    "        if license_plate(sent):\n",
    "                pii_detected[\"license_plate\"]=0.9\n",
    "        if pii_detected!={}:\n",
    "                print(pii_detected,'\\n')\n",
    "        else:\n",
    "                print(\"No PII detected\")\n",
    "\n",
    "# translate\n",
    "# 3'21s No PII detected/No PII detected/No PII detected/No PII detected/No PII detected/No PII detected/No PII detected/No PII detected/{'person': 0.5827060759067535} /{'person': 0.880791163444519}"
   ]
  },
  {
   "cell_type": "code",
   "execution_count": null,
   "metadata": {},
   "outputs": [],
   "source": []
  }
 ],
 "metadata": {
  "interpreter": {
   "hash": "916dbcbb3f70747c44a77c7bcd40155683ae19c65e1c03b4aa3499c5328201f1"
  },
  "kernelspec": {
   "display_name": "Python 3.8.10 64-bit",
   "name": "python3"
  },
  "language_info": {
   "codemirror_mode": {
    "name": "ipython",
    "version": 3
   },
   "file_extension": ".py",
   "mimetype": "text/x-python",
   "name": "python",
   "nbconvert_exporter": "python",
   "pygments_lexer": "ipython3",
   "version": "3.8.10"
  },
  "orig_nbformat": 4
 },
 "nbformat": 4,
 "nbformat_minor": 2
}
