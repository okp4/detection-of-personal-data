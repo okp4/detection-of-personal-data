{
 "cells": [
  {
   "cell_type": "code",
   "execution_count": 1,
   "metadata": {},
   "outputs": [
    {
     "name": "stderr",
     "output_type": "stream",
     "text": [
      "2022-04-27 10:51:31.432409: W tensorflow/stream_executor/platform/default/dso_loader.cc:60] Could not load dynamic library 'libcudart.so.11.0'; dlerror: libcudart.so.11.0: cannot open shared object file: No such file or directory\n",
      "2022-04-27 10:51:31.432441: I tensorflow/stream_executor/cuda/cudart_stub.cc:29] Ignore above cudart dlerror if you do not have a GPU set up on your machine.\n"
     ]
    }
   ],
   "source": [
    "from translator import translate\n",
    "from transformers import pipeline\n",
    "import pandas as pd\n",
    "import numpy as np\n",
    "import os\n",
    "from src.functions import count_labels,pii\n",
    "import unittest\n",
    "import sys\n",
    "import operator\n",
    "from tqdm import tqdm\n",
    "import nltk\n"
   ]
  },
  {
   "cell_type": "code",
   "execution_count": 2,
   "metadata": {},
   "outputs": [
    {
     "name": "stderr",
     "output_type": "stream",
     "text": [
      "2022-04-27 10:51:35,520 - WARNING - download_and_prepare - Reusing dataset xtreme (/home/nour/.cache/huggingface/datasets/xtreme/XNLI/1.0.0/2fc6b63c5326cc0d1f73060649612889b3a7ed8a6605c91cecdbd228a7158b17) \n"
     ]
    },
    {
     "data": {
      "text/html": [
       "<div>\n",
       "<style scoped>\n",
       "    .dataframe tbody tr th:only-of-type {\n",
       "        vertical-align: middle;\n",
       "    }\n",
       "\n",
       "    .dataframe tbody tr th {\n",
       "        vertical-align: top;\n",
       "    }\n",
       "\n",
       "    .dataframe thead th {\n",
       "        text-align: right;\n",
       "    }\n",
       "</style>\n",
       "<table border=\"1\" class=\"dataframe\">\n",
       "  <thead>\n",
       "    <tr style=\"text-align: right;\">\n",
       "      <th></th>\n",
       "      <th>language</th>\n",
       "      <th>sentence1</th>\n",
       "      <th>sentence2</th>\n",
       "      <th>gold_label</th>\n",
       "    </tr>\n",
       "  </thead>\n",
       "  <tbody>\n",
       "    <tr>\n",
       "      <th>0</th>\n",
       "      <td>ar</td>\n",
       "      <td>حسنا ، لم أكن أفكر حتى حول ذلك ، لكن كنت محبطا...</td>\n",
       "      <td>لم أتحدث معه مرة أخرى.</td>\n",
       "      <td>contradiction</td>\n",
       "    </tr>\n",
       "    <tr>\n",
       "      <th>1</th>\n",
       "      <td>ar</td>\n",
       "      <td>حسنا ، لم أكن أفكر حتى حول ذلك ، لكن كنت محبطا...</td>\n",
       "      <td>كنت مستاء جدا لدرجة أنني بدأت بالحديث معه مرة ...</td>\n",
       "      <td>entailment</td>\n",
       "    </tr>\n",
       "    <tr>\n",
       "      <th>2</th>\n",
       "      <td>ar</td>\n",
       "      <td>حسنا ، لم أكن أفكر حتى حول ذلك ، لكن كنت محبطا...</td>\n",
       "      <td>دار بيننا حديث رائع.</td>\n",
       "      <td>neutral</td>\n",
       "    </tr>\n",
       "    <tr>\n",
       "      <th>3</th>\n",
       "      <td>ar</td>\n",
       "      <td>واعتقدت أن ذلك شرف لي ، ولا يزال ، ولايزال ، ك...</td>\n",
       "      <td>لم أكن على علم بأنني لم أكن الشخص الوحيد الذي ...</td>\n",
       "      <td>neutral</td>\n",
       "    </tr>\n",
       "    <tr>\n",
       "      <th>4</th>\n",
       "      <td>ar</td>\n",
       "      <td>واعتقدت أن ذلك شرف لي ، ولا يزال ، ولايزال ، ك...</td>\n",
       "      <td>كان لدي إنطباع أنني كنت الشخص الوحيد الذي لديه...</td>\n",
       "      <td>entailment</td>\n",
       "    </tr>\n",
       "    <tr>\n",
       "      <th>...</th>\n",
       "      <td>...</td>\n",
       "      <td>...</td>\n",
       "      <td>...</td>\n",
       "      <td>...</td>\n",
       "    </tr>\n",
       "    <tr>\n",
       "      <th>75145</th>\n",
       "      <td>zh</td>\n",
       "      <td>戴维森不应该用“scone”的发音来和“bone”押韵 - 无论如何不是因为维多利亚，而是他...</td>\n",
       "      <td>戴维森不应该以骨头和烤饼听起来一样的方式说话。</td>\n",
       "      <td>entailment</td>\n",
       "    </tr>\n",
       "    <tr>\n",
       "      <th>75146</th>\n",
       "      <td>zh</td>\n",
       "      <td>戴维森不应该用“scone”的发音来和“bone”押韵 - 无论如何不是因为维多利亚，而是他...</td>\n",
       "      <td>如果戴维森押韵饼和骨头的话, 那就更好了。</td>\n",
       "      <td>contradiction</td>\n",
       "    </tr>\n",
       "    <tr>\n",
       "      <th>75147</th>\n",
       "      <td>zh</td>\n",
       "      <td>20万字的小说平均每8000字25美元。</td>\n",
       "      <td>价值25美元的20万字小说价格合理。</td>\n",
       "      <td>neutral</td>\n",
       "    </tr>\n",
       "    <tr>\n",
       "      <th>75148</th>\n",
       "      <td>zh</td>\n",
       "      <td>20万字的小说平均每8000字25美元。</td>\n",
       "      <td>25美元的20万字的小说就是每美元4,000字。</td>\n",
       "      <td>contradiction</td>\n",
       "    </tr>\n",
       "    <tr>\n",
       "      <th>75149</th>\n",
       "      <td>zh</td>\n",
       "      <td>20万字的小说平均每8000字25美元。</td>\n",
       "      <td>25美元的20万字的小说相当于每美元8000个字。</td>\n",
       "      <td>entailment</td>\n",
       "    </tr>\n",
       "  </tbody>\n",
       "</table>\n",
       "<p>75150 rows × 4 columns</p>\n",
       "</div>"
      ],
      "text/plain": [
       "      language                                          sentence1  \\\n",
       "0           ar  حسنا ، لم أكن أفكر حتى حول ذلك ، لكن كنت محبطا...   \n",
       "1           ar  حسنا ، لم أكن أفكر حتى حول ذلك ، لكن كنت محبطا...   \n",
       "2           ar  حسنا ، لم أكن أفكر حتى حول ذلك ، لكن كنت محبطا...   \n",
       "3           ar  واعتقدت أن ذلك شرف لي ، ولا يزال ، ولايزال ، ك...   \n",
       "4           ar  واعتقدت أن ذلك شرف لي ، ولا يزال ، ولايزال ، ك...   \n",
       "...        ...                                                ...   \n",
       "75145       zh  戴维森不应该用“scone”的发音来和“bone”押韵 - 无论如何不是因为维多利亚，而是他...   \n",
       "75146       zh  戴维森不应该用“scone”的发音来和“bone”押韵 - 无论如何不是因为维多利亚，而是他...   \n",
       "75147       zh                               20万字的小说平均每8000字25美元。   \n",
       "75148       zh                               20万字的小说平均每8000字25美元。   \n",
       "75149       zh                               20万字的小说平均每8000字25美元。   \n",
       "\n",
       "                                               sentence2     gold_label  \n",
       "0                                 لم أتحدث معه مرة أخرى.  contradiction  \n",
       "1      كنت مستاء جدا لدرجة أنني بدأت بالحديث معه مرة ...     entailment  \n",
       "2                                   دار بيننا حديث رائع.        neutral  \n",
       "3      لم أكن على علم بأنني لم أكن الشخص الوحيد الذي ...        neutral  \n",
       "4      كان لدي إنطباع أنني كنت الشخص الوحيد الذي لديه...     entailment  \n",
       "...                                                  ...            ...  \n",
       "75145                            戴维森不应该以骨头和烤饼听起来一样的方式说话。     entailment  \n",
       "75146                              如果戴维森押韵饼和骨头的话, 那就更好了。  contradiction  \n",
       "75147                                 价值25美元的20万字小说价格合理。        neutral  \n",
       "75148                           25美元的20万字的小说就是每美元4,000字。  contradiction  \n",
       "75149                          25美元的20万字的小说相当于每美元8000个字。     entailment  \n",
       "\n",
       "[75150 rows x 4 columns]"
      ]
     },
     "execution_count": 2,
     "metadata": {},
     "output_type": "execute_result"
    }
   ],
   "source": [
    "from datasets import load_dataset\n",
    "\n",
    "dataset = load_dataset('xtreme', 'XNLI', split='test')\n",
    "df=pd.DataFrame(dataset)\n",
    "df"
   ]
  },
  {
   "cell_type": "code",
   "execution_count": 4,
   "metadata": {},
   "outputs": [
    {
     "data": {
      "text/html": [
       "<div>\n",
       "<style scoped>\n",
       "    .dataframe tbody tr th:only-of-type {\n",
       "        vertical-align: middle;\n",
       "    }\n",
       "\n",
       "    .dataframe tbody tr th {\n",
       "        vertical-align: top;\n",
       "    }\n",
       "\n",
       "    .dataframe thead th {\n",
       "        text-align: right;\n",
       "    }\n",
       "</style>\n",
       "<table border=\"1\" class=\"dataframe\">\n",
       "  <thead>\n",
       "    <tr style=\"text-align: right;\">\n",
       "      <th></th>\n",
       "      <th>language</th>\n",
       "      <th>sentence1</th>\n",
       "      <th>sentence2</th>\n",
       "      <th>gold_label</th>\n",
       "    </tr>\n",
       "  </thead>\n",
       "  <tbody>\n",
       "    <tr>\n",
       "      <th>30060</th>\n",
       "      <td>fr</td>\n",
       "      <td>Eh bien, je ne pensais même pas à cela, mais j...</td>\n",
       "      <td>Je ne lui ai pas parlé de nouveau</td>\n",
       "      <td>contradiction</td>\n",
       "    </tr>\n",
       "    <tr>\n",
       "      <th>30061</th>\n",
       "      <td>fr</td>\n",
       "      <td>Eh bien, je ne pensais même pas à cela, mais j...</td>\n",
       "      <td>J'étais si contrarié que je commençais juste à...</td>\n",
       "      <td>entailment</td>\n",
       "    </tr>\n",
       "    <tr>\n",
       "      <th>30062</th>\n",
       "      <td>fr</td>\n",
       "      <td>Eh bien, je ne pensais même pas à cela, mais j...</td>\n",
       "      <td>Nous avons eu une grande discussion.</td>\n",
       "      <td>neutral</td>\n",
       "    </tr>\n",
       "    <tr>\n",
       "      <th>30063</th>\n",
       "      <td>fr</td>\n",
       "      <td>Et je pensais que c'était un privilège, et ça ...</td>\n",
       "      <td>Je n'avais pas conscience que je n'étais pas l...</td>\n",
       "      <td>neutral</td>\n",
       "    </tr>\n",
       "    <tr>\n",
       "      <th>30064</th>\n",
       "      <td>fr</td>\n",
       "      <td>Et je pensais que c'était un privilège, et ça ...</td>\n",
       "      <td>J'avais l'impression que j'étais le seul à avo...</td>\n",
       "      <td>entailment</td>\n",
       "    </tr>\n",
       "    <tr>\n",
       "      <th>...</th>\n",
       "      <td>...</td>\n",
       "      <td>...</td>\n",
       "      <td>...</td>\n",
       "      <td>...</td>\n",
       "    </tr>\n",
       "    <tr>\n",
       "      <th>35065</th>\n",
       "      <td>fr</td>\n",
       "      <td>Davidson ne devrait pas adopter la prononciati...</td>\n",
       "      <td>Davidson ne devrait pas parler d'une façon où ...</td>\n",
       "      <td>entailment</td>\n",
       "    </tr>\n",
       "    <tr>\n",
       "      <th>35066</th>\n",
       "      <td>fr</td>\n",
       "      <td>Davidson ne devrait pas adopter la prononciati...</td>\n",
       "      <td>Ce serait mieux que Davidson fasse rimer les m...</td>\n",
       "      <td>contradiction</td>\n",
       "    </tr>\n",
       "    <tr>\n",
       "      <th>35067</th>\n",
       "      <td>fr</td>\n",
       "      <td>Le roman moyen de 200 000 mots pour 25 $ fonct...</td>\n",
       "      <td>Un roman de 200 000 mots à 25 $ est un prix éq...</td>\n",
       "      <td>neutral</td>\n",
       "    </tr>\n",
       "    <tr>\n",
       "      <th>35068</th>\n",
       "      <td>fr</td>\n",
       "      <td>Le roman moyen de 200 000 mots pour 25 $ fonct...</td>\n",
       "      <td>Un roman de 200 000 payé 25 $ revient à 4 000 ...</td>\n",
       "      <td>contradiction</td>\n",
       "    </tr>\n",
       "    <tr>\n",
       "      <th>35069</th>\n",
       "      <td>fr</td>\n",
       "      <td>Le roman moyen de 200 000 mots pour 25 $ fonct...</td>\n",
       "      <td>Un roman de 200 000 mots pour 25 $, ça revient...</td>\n",
       "      <td>entailment</td>\n",
       "    </tr>\n",
       "  </tbody>\n",
       "</table>\n",
       "<p>5010 rows × 4 columns</p>\n",
       "</div>"
      ],
      "text/plain": [
       "      language                                          sentence1  \\\n",
       "30060       fr  Eh bien, je ne pensais même pas à cela, mais j...   \n",
       "30061       fr  Eh bien, je ne pensais même pas à cela, mais j...   \n",
       "30062       fr  Eh bien, je ne pensais même pas à cela, mais j...   \n",
       "30063       fr  Et je pensais que c'était un privilège, et ça ...   \n",
       "30064       fr  Et je pensais que c'était un privilège, et ça ...   \n",
       "...        ...                                                ...   \n",
       "35065       fr  Davidson ne devrait pas adopter la prononciati...   \n",
       "35066       fr  Davidson ne devrait pas adopter la prononciati...   \n",
       "35067       fr  Le roman moyen de 200 000 mots pour 25 $ fonct...   \n",
       "35068       fr  Le roman moyen de 200 000 mots pour 25 $ fonct...   \n",
       "35069       fr  Le roman moyen de 200 000 mots pour 25 $ fonct...   \n",
       "\n",
       "                                               sentence2     gold_label  \n",
       "30060                  Je ne lui ai pas parlé de nouveau  contradiction  \n",
       "30061  J'étais si contrarié que je commençais juste à...     entailment  \n",
       "30062               Nous avons eu une grande discussion.        neutral  \n",
       "30063  Je n'avais pas conscience que je n'étais pas l...        neutral  \n",
       "30064  J'avais l'impression que j'étais le seul à avo...     entailment  \n",
       "...                                                  ...            ...  \n",
       "35065  Davidson ne devrait pas parler d'une façon où ...     entailment  \n",
       "35066  Ce serait mieux que Davidson fasse rimer les m...  contradiction  \n",
       "35067  Un roman de 200 000 mots à 25 $ est un prix éq...        neutral  \n",
       "35068  Un roman de 200 000 payé 25 $ revient à 4 000 ...  contradiction  \n",
       "35069  Un roman de 200 000 mots pour 25 $, ça revient...     entailment  \n",
       "\n",
       "[5010 rows x 4 columns]"
      ]
     },
     "execution_count": 4,
     "metadata": {},
     "output_type": "execute_result"
    }
   ],
   "source": [
    "df_fr=df[df.language=='fr']\n",
    "df_fr"
   ]
  },
  {
   "cell_type": "code",
   "execution_count": 3,
   "metadata": {},
   "outputs": [
    {
     "data": {
      "text/html": [
       "<div>\n",
       "<style scoped>\n",
       "    .dataframe tbody tr th:only-of-type {\n",
       "        vertical-align: middle;\n",
       "    }\n",
       "\n",
       "    .dataframe tbody tr th {\n",
       "        vertical-align: top;\n",
       "    }\n",
       "\n",
       "    .dataframe thead th {\n",
       "        text-align: right;\n",
       "    }\n",
       "</style>\n",
       "<table border=\"1\" class=\"dataframe\">\n",
       "  <thead>\n",
       "    <tr style=\"text-align: right;\">\n",
       "      <th></th>\n",
       "      <th>language</th>\n",
       "      <th>sentence1</th>\n",
       "      <th>sentence2</th>\n",
       "      <th>gold_label</th>\n",
       "    </tr>\n",
       "  </thead>\n",
       "  <tbody>\n",
       "    <tr>\n",
       "      <th>20040</th>\n",
       "      <td>en</td>\n",
       "      <td>Well, I wasn't even thinking about that, but I...</td>\n",
       "      <td>I havent spoken to him again.</td>\n",
       "      <td>contradiction</td>\n",
       "    </tr>\n",
       "    <tr>\n",
       "      <th>20041</th>\n",
       "      <td>en</td>\n",
       "      <td>Well, I wasn't even thinking about that, but I...</td>\n",
       "      <td>I was so upset that I just started talking to ...</td>\n",
       "      <td>entailment</td>\n",
       "    </tr>\n",
       "    <tr>\n",
       "      <th>20042</th>\n",
       "      <td>en</td>\n",
       "      <td>Well, I wasn't even thinking about that, but I...</td>\n",
       "      <td>We had a great talk.</td>\n",
       "      <td>neutral</td>\n",
       "    </tr>\n",
       "    <tr>\n",
       "      <th>20043</th>\n",
       "      <td>en</td>\n",
       "      <td>And I thought that was a privilege, and it's s...</td>\n",
       "      <td>I was not aware that I was not the only person...</td>\n",
       "      <td>neutral</td>\n",
       "    </tr>\n",
       "    <tr>\n",
       "      <th>20044</th>\n",
       "      <td>en</td>\n",
       "      <td>And I thought that was a privilege, and it's s...</td>\n",
       "      <td>I was under the impression that I was the only...</td>\n",
       "      <td>entailment</td>\n",
       "    </tr>\n",
       "    <tr>\n",
       "      <th>...</th>\n",
       "      <td>...</td>\n",
       "      <td>...</td>\n",
       "      <td>...</td>\n",
       "      <td>...</td>\n",
       "    </tr>\n",
       "    <tr>\n",
       "      <th>25045</th>\n",
       "      <td>en</td>\n",
       "      <td>Davidson should not adopt the pronunciation of...</td>\n",
       "      <td>Davidson shouldn't talk in a way where bone an...</td>\n",
       "      <td>entailment</td>\n",
       "    </tr>\n",
       "    <tr>\n",
       "      <th>25046</th>\n",
       "      <td>en</td>\n",
       "      <td>Davidson should not adopt the pronunciation of...</td>\n",
       "      <td>It would be better if Davidson rhymed the word...</td>\n",
       "      <td>contradiction</td>\n",
       "    </tr>\n",
       "    <tr>\n",
       "      <th>25047</th>\n",
       "      <td>en</td>\n",
       "      <td>The average novel of 200,000 words for $25 wor...</td>\n",
       "      <td>A 200,000 word novel at $25 is a fair price.</td>\n",
       "      <td>neutral</td>\n",
       "    </tr>\n",
       "    <tr>\n",
       "      <th>25048</th>\n",
       "      <td>en</td>\n",
       "      <td>The average novel of 200,000 words for $25 wor...</td>\n",
       "      <td>A 200,000 word novel for $25 is 4,000 words pe...</td>\n",
       "      <td>contradiction</td>\n",
       "    </tr>\n",
       "    <tr>\n",
       "      <th>25049</th>\n",
       "      <td>en</td>\n",
       "      <td>The average novel of 200,000 words for $25 wor...</td>\n",
       "      <td>A 200,000 word novel for $25 is 8,000 words pe...</td>\n",
       "      <td>entailment</td>\n",
       "    </tr>\n",
       "  </tbody>\n",
       "</table>\n",
       "<p>5010 rows × 4 columns</p>\n",
       "</div>"
      ],
      "text/plain": [
       "      language                                          sentence1  \\\n",
       "20040       en  Well, I wasn't even thinking about that, but I...   \n",
       "20041       en  Well, I wasn't even thinking about that, but I...   \n",
       "20042       en  Well, I wasn't even thinking about that, but I...   \n",
       "20043       en  And I thought that was a privilege, and it's s...   \n",
       "20044       en  And I thought that was a privilege, and it's s...   \n",
       "...        ...                                                ...   \n",
       "25045       en  Davidson should not adopt the pronunciation of...   \n",
       "25046       en  Davidson should not adopt the pronunciation of...   \n",
       "25047       en  The average novel of 200,000 words for $25 wor...   \n",
       "25048       en  The average novel of 200,000 words for $25 wor...   \n",
       "25049       en  The average novel of 200,000 words for $25 wor...   \n",
       "\n",
       "                                               sentence2     gold_label  \n",
       "20040                      I havent spoken to him again.  contradiction  \n",
       "20041  I was so upset that I just started talking to ...     entailment  \n",
       "20042                               We had a great talk.        neutral  \n",
       "20043  I was not aware that I was not the only person...        neutral  \n",
       "20044  I was under the impression that I was the only...     entailment  \n",
       "...                                                  ...            ...  \n",
       "25045  Davidson shouldn't talk in a way where bone an...     entailment  \n",
       "25046  It would be better if Davidson rhymed the word...  contradiction  \n",
       "25047       A 200,000 word novel at $25 is a fair price.        neutral  \n",
       "25048  A 200,000 word novel for $25 is 4,000 words pe...  contradiction  \n",
       "25049  A 200,000 word novel for $25 is 8,000 words pe...     entailment  \n",
       "\n",
       "[5010 rows x 4 columns]"
      ]
     },
     "execution_count": 3,
     "metadata": {},
     "output_type": "execute_result"
    }
   ],
   "source": [
    "df_en=df[df.language=='en']\n",
    "df_en"
   ]
  },
  {
   "cell_type": "code",
   "execution_count": 4,
   "metadata": {},
   "outputs": [],
   "source": [
    "pipeline = pipeline(\"zero-shot-classification\",\n",
    "                      model=\"facebook/bart-large-mnli\")"
   ]
  },
  {
   "cell_type": "code",
   "execution_count": 5,
   "metadata": {},
   "outputs": [],
   "source": [
    "# candidate_labels = ['First and last name', 'Mail','Internet protocol (IP) addresses', 'location', 'Date of birth', 'Date of death', 'Place of birth', 'Place of death', 'IP', 'a cookie', 'phone', 'health data','private data','personal data','not personal data','not private data']\n",
    "name=[\"First and last name\",\"full name\", \"person's name\",\"first name and Family name\",\"person\"]\n",
    "birth=[\"birthday\"]\n",
    "# ip=[\"Internet protocol (IP) addresses\",\"IP adress\"]\n",
    "cookie=[\"cookie identifiers\",\"a cookie\"]\n",
    "phone=[\"phone numbers\",\"phone number\",\"telphone number\"]\n",
    "mail=[\"mail addresses\",\"mail address\",\"mail\"]\n",
    "location=[\"location adress\",\"private postal address\"]\n",
    "health=[\"health data\",\"medical records\",\"health information\",\"medical information\",\"Medical Procedure names\",\"Medical Procedure identification codes\"]\n",
    "personal=[\"personal data\",\"personal\",\"personal information\",\"private data\",\"private information\"]\n",
    "not_personal=[\"not personal data\",\"not personal information\",\"not personal\",\"not private data\",\"not private\",\"not private information\"]\n",
    "passport=['passport number','number']\n",
    "Driving_license=['driving license','number']\n",
    "social_security_number=['social security number']\n",
    "Tax_file_number=['tax file number']\n",
    "candidate_labels=name+cookie+phone+mail+location+health+personal+not_personal+birth+passport+Driving_license+social_security_number+Tax_file_number"
   ]
  },
  {
   "cell_type": "code",
   "execution_count": 7,
   "metadata": {},
   "outputs": [
    {
     "name": "stderr",
     "output_type": "stream",
     "text": [
      " 50%|█████     | 1/2 [00:25<00:25, 25.22s/it]"
     ]
    },
    {
     "name": "stdout",
     "output_type": "stream",
     "text": [
      "Marié à Michelle Robinson en 1992, Barack Obama entre en politique quatre ans plus tard : il est élu au Sénat de l'Illinois, où il effectue trois mandats, de 1997 à 2004.\n",
      "{'person': 0.8287651658058166, 'birth': 0.6673669219017029, 'personal': 0.6039626210927963, 'passport': 0.44271523505449295, 'Driving_license': 0.41577012836933136, 'location': 0.2945850007236004, 'not_personal': 0.24005366147806248, 'health': 0.12735427574565014, 'mail': 0.10251393169164658, 'phone': 0.10021297261118889, 'Tax_file_number': 0.08505287766456604, 'social_security_number': 0.07189692556858063, 'cookie': 0.05874930229038} {'Adresse': [('1992', ',', 'Barack', 'Obama')]} \n",
      "\n"
     ]
    },
    {
     "name": "stderr",
     "output_type": "stream",
     "text": [
      "100%|██████████| 2/2 [00:47<00:00, 23.62s/it]"
     ]
    },
    {
     "name": "stdout",
     "output_type": "stream",
     "text": [
      "I\n",
      "{'person': 0.6975784778594971, 'not_personal': 0.4704408844312032, 'personal': 0.4342993587255478, 'Driving_license': 0.4265482872724533, 'passport': 0.32948583364486694, 'location': 0.31704334914684296, 'birth': 0.26695480942726135, 'mail': 0.2541164830327034, 'Tax_file_number': 0.20225708186626434, 'health': 0.1854399765531222, 'cookie': 0.1510176695883274, 'phone': 0.12175271287560463, 'social_security_number': 0.11009800434112549} {} \n",
      "\n"
     ]
    },
    {
     "name": "stderr",
     "output_type": "stream",
     "text": [
      "\n"
     ]
    }
   ],
   "source": [
    "text_for_test=\"\"\"Marié à Michelle Robinson en 1992, Barack Obama entre en politique quatre ans plus tard : il est élu au Sénat de l'Illinois, où il effectue trois mandats, de 1997 à 2004. I\n",
    "\"\"\"\n",
    "pii_=[(name,'person'),(birth,'birth'),(cookie,'cookie'),(phone,'phone'),(mail,'mail'),(location,'location'),(health,'health'),(personal,'personal'),\n",
    "        (not_personal,'not_personal'),(passport,\"passport\"),(Driving_license,\"Driving_license\"),(social_security_number,\"social_security_number\"),(Tax_file_number,\"Tax_file_number\")]\n",
    "for txt in  tqdm(nltk.sent_tokenize(text_for_test),total=len(nltk.sent_tokenize(text_for_test))):\n",
    "        text_translated=translate(txt)\n",
    "        result_details=pipeline(text_translated, candidate_labels, multi_label=True)\n",
    "        result_details=dict(zip(result_details['labels'],result_details['scores']))\n",
    "        result = {name : np.mean(list(map(result_details.get, lst))) for lst,name in pii_}\n",
    "        result=dict(sorted(result.items(), key=operator.itemgetter(1),reverse=True))\n",
    "        print(txt)\n",
    "        print(result,pii(txt),'\\n')"
   ]
  },
  {
   "cell_type": "code",
   "execution_count": 8,
   "metadata": {},
   "outputs": [
    {
     "name": "stderr",
     "output_type": "stream",
     "text": [
      " 50%|█████     | 1/2 [00:20<00:20, 20.77s/it]"
     ]
    },
    {
     "name": "stdout",
     "output_type": "stream",
     "text": [
      "un homme d'État américain.\n",
      "{'person': 0.4656931638717651, 'not_personal': 0.21400641649961472, 'passport': 0.04818221554160118, 'birth': 0.03884506970643997, 'Driving_license': 0.03183781850384548, 'personal': 0.026590933557599783, 'location': 0.021148393396288157, 'Tax_file_number': 0.006720727309584618, 'mail': 0.004556481183196108, 'phone': 0.002631356823258102, 'health': 0.00107816838620541, 'social_security_number': 0.0010437247110530734, 'cookie': 0.00055667434935458} {} \n",
      "\n"
     ]
    }
   ],
   "source": [
    "text_for_test=\"\"\"un homme d'État américain. Il est le 44e président des États-Unis, en fonction du 20 janvier 2009 au 20 janvier 2017.\n",
    "\"\"\"\n",
    "pii_=[(name,'person'),(birth,'birth'),(cookie,'cookie'),(phone,'phone'),(mail,'mail'),(location,'location'),(health,'health'),(personal,'personal'),\n",
    "        (not_personal,'not_personal'),(passport,\"passport\"),(Driving_license,\"Driving_license\"),(social_security_number,\"social_security_number\"),(Tax_file_number,\"Tax_file_number\")]\n",
    "for txt in  tqdm(nltk.sent_tokenize(text_for_test),total=len(nltk.sent_tokenize(text_for_test))):\n",
    "        text_translated=translate(txt)\n",
    "        result_details=pipeline(text_translated, candidate_labels, multi_label=True)\n",
    "        result_details=dict(zip(result_details['labels'],result_details['scores']))\n",
    "        result = {name : np.mean(list(map(result_details.get, lst))) for lst,name in pii_}\n",
    "        result=dict(sorted(result.items(), key=operator.itemgetter(1),reverse=True))\n",
    "        print(txt)\n",
    "        print(result,pii(txt),'\\n')"
   ]
  },
  {
   "cell_type": "code",
   "execution_count": 7,
   "metadata": {},
   "outputs": [
    {
     "name": "stderr",
     "output_type": "stream",
     "text": [
      "100%|██████████| 1/1 [00:19<00:00, 19.68s/it]"
     ]
    },
    {
     "name": "stdout",
     "output_type": "stream",
     "text": [
      " Toto TITI a fait de la natation pendant 5 ans, entre temps il a refait son passport de numero 215658125 au consulat\n",
      "{'person': 0.9293522715568543, 'passport': 0.838655024766922, 'Driving_license': 0.4903465658426285, 'location': 0.46587926760548726, 'birth': 0.317456990480423, 'personal': 0.27315772920846937, 'not_personal': 0.21899664402008057, 'health': 0.20923076394440918, 'phone': 0.16641171152393022, 'Tax_file_number': 0.05794449523091316, 'mail': 0.03665956794672335, 'social_security_number': 0.02658419869840145, 'cookie': 0.008137208642438054} {'phones': ['215658125'], 'Person': [' Toto TITI a']} \n",
      "\n"
     ]
    },
    {
     "name": "stderr",
     "output_type": "stream",
     "text": [
      "\n"
     ]
    }
   ],
   "source": [
    "text_for_test=\"\"\" Toto TITI a fait de la natation pendant 5 ans, entre temps il a refait son passport de numero 215658125 au consulat\n",
    "\"\"\"\n",
    "pii_=[(name,'person'),(birth,'birth'),(cookie,'cookie'),(phone,'phone'),(mail,'mail'),(location,'location'),(health,'health'),(personal,'personal'),\n",
    "        (not_personal,'not_personal'),(passport,\"passport\"),(Driving_license,\"Driving_license\"),(social_security_number,\"social_security_number\"),(Tax_file_number,\"Tax_file_number\")]\n",
    "for txt in  tqdm(nltk.sent_tokenize(text_for_test),total=len(nltk.sent_tokenize(text_for_test))):\n",
    "        text_translated=translate(txt)\n",
    "        result_details=pipeline(text_translated, candidate_labels, multi_label=True)\n",
    "        result_details=dict(zip(result_details['labels'],result_details['scores']))\n",
    "        result = {name : np.mean(list(map(result_details.get, lst))) for lst,name in pii_}\n",
    "        result=dict(sorted(result.items(), key=operator.itemgetter(1),reverse=True))\n",
    "        print(txt)\n",
    "        print(result,pii(txt),'\\n')"
   ]
  },
  {
   "cell_type": "code",
   "execution_count": 8,
   "metadata": {},
   "outputs": [
    {
     "name": "stderr",
     "output_type": "stream",
     "text": [
      "100%|██████████| 1/1 [00:17<00:00, 17.56s/it]"
     ]
    },
    {
     "name": "stdout",
     "output_type": "stream",
     "text": [
      " la plaque d'immatriculation de ma voiture a été volé\n",
      "{'personal': 0.6000780433416366, 'Driving_license': 0.42422881722450256, 'not_personal': 0.29087536890680593, 'passport': 0.1350468187883962, 'person': 0.08061403278261423, 'location': 0.05328326336166356, 'birth': 0.0038977349177002907, 'cookie': 0.0034801810288627166, 'health': 0.0015346542277256958, 'Tax_file_number': 0.0005781728541478515, 'social_security_number': 0.0005394768668338656, 'phone': 0.0003918058840402712, 'mail': 0.0001226023353713875} {} \n",
      "\n"
     ]
    },
    {
     "name": "stderr",
     "output_type": "stream",
     "text": [
      "\n"
     ]
    }
   ],
   "source": [
    "text_for_test=\"\"\" la plaque d'immatriculation de ma voiture a été volé\n",
    "\"\"\"\n",
    "pii_=[(name,'person'),(birth,'birth'),(cookie,'cookie'),(phone,'phone'),(mail,'mail'),(location,'location'),(health,'health'),(personal,'personal'),\n",
    "        (not_personal,'not_personal'),(passport,\"passport\"),(Driving_license,\"Driving_license\"),(social_security_number,\"social_security_number\"),(Tax_file_number,\"Tax_file_number\")]\n",
    "for txt in  tqdm(nltk.sent_tokenize(text_for_test),total=len(nltk.sent_tokenize(text_for_test))):\n",
    "        text_translated=translate(txt)\n",
    "        result_details=pipeline(text_translated, candidate_labels, multi_label=True)\n",
    "        result_details=dict(zip(result_details['labels'],result_details['scores']))\n",
    "        result = {name : np.mean(list(map(result_details.get, lst))) for lst,name in pii_}\n",
    "        result=dict(sorted(result.items(), key=operator.itemgetter(1),reverse=True))\n",
    "        print(txt)\n",
    "        print(result,pii(txt),'\\n')"
   ]
  },
  {
   "cell_type": "code",
   "execution_count": 9,
   "metadata": {},
   "outputs": [
    {
     "name": "stderr",
     "output_type": "stream",
     "text": [
      "100%|██████████| 1/1 [00:18<00:00, 18.12s/it]"
     ]
    },
    {
     "name": "stdout",
     "output_type": "stream",
     "text": [
      " le numero de la plaque d'immatriculation de ma voiture est AA-123-BB\n",
      "{'Driving_license': 0.88520747423172, 'passport': 0.49285547019098885, 'personal': 0.35022308081388476, 'birth': 0.21903681755065918, 'not_personal': 0.1511287366350492, 'person': 0.05518315786030144, 'location': 0.01616562981507741, 'health': 0.01562684114469448, 'cookie': 0.006189528896356933, 'mail': 0.0004047760715669331, 'social_security_number': 0.00021144619677215815, 'phone': 0.0001616334969488283, 'Tax_file_number': 0.00013160995149519295} {'license_plate': ['AA-123-BB']} \n",
      "\n"
     ]
    },
    {
     "name": "stderr",
     "output_type": "stream",
     "text": [
      "\n"
     ]
    }
   ],
   "source": [
    "text_for_test=\"\"\" le numero de la plaque d'immatriculation de ma voiture est AA-123-BB\n",
    "\"\"\"\n",
    "pii_=[(name,'person'),(birth,'birth'),(cookie,'cookie'),(phone,'phone'),(mail,'mail'),(location,'location'),(health,'health'),(personal,'personal'),\n",
    "        (not_personal,'not_personal'),(passport,\"passport\"),(Driving_license,\"Driving_license\"),(social_security_number,\"social_security_number\"),(Tax_file_number,\"Tax_file_number\")]\n",
    "for txt in  tqdm(nltk.sent_tokenize(text_for_test),total=len(nltk.sent_tokenize(text_for_test))):\n",
    "        text_translated=translate(txt)\n",
    "        result_details=pipeline(text_translated, candidate_labels, multi_label=True)\n",
    "        result_details=dict(zip(result_details['labels'],result_details['scores']))\n",
    "        result = {name : np.mean(list(map(result_details.get, lst))) for lst,name in pii_}\n",
    "        result=dict(sorted(result.items(), key=operator.itemgetter(1),reverse=True))\n",
    "        print(txt)\n",
    "        print(result,pii(txt),'\\n')"
   ]
  },
  {
   "cell_type": "code",
   "execution_count": 10,
   "metadata": {},
   "outputs": [
    {
     "name": "stderr",
     "output_type": "stream",
     "text": [
      " 50%|█████     | 1/2 [00:14<00:14, 14.47s/it]"
     ]
    },
    {
     "name": "stdout",
     "output_type": "stream",
     "text": [
      " you can find my passport in the back of my car, on the left side.\n",
      "{'personal': 0.5952373772859574, 'passport': 0.5229919850826263, 'Driving_license': 0.20772871864028275, 'person': 0.19082447774708272, 'location': 0.17996555007994175, 'not_personal': 0.149396694265306, 'birth': 0.029456239193677902, 'health': 0.017618491731506463, 'Tax_file_number': 0.002386688720434904, 'mail': 0.0009781087962134432, 'cookie': 0.0005673912601196207, 'phone': 0.0005044200903891275, 'social_security_number': 0.00025573268067091703} {} \n",
      "\n"
     ]
    }
   ],
   "source": [
    "text_for_test=\"\"\" you can find my passport in the back of my car, on the left side. You can call me on  +33(0)6 12 34 56 78\n",
    "\"\"\"\n",
    "pii_=[(name,'person'),(birth,'birth'),(cookie,'cookie'),(phone,'phone'),(mail,'mail'),(location,'location'),(health,'health'),(personal,'personal'),\n",
    "        (not_personal,'not_personal'),(passport,\"passport\"),(Driving_license,\"Driving_license\"),(social_security_number,\"social_security_number\"),(Tax_file_number,\"Tax_file_number\")]\n",
    "for txt in  tqdm(nltk.sent_tokenize(text_for_test),total=len(nltk.sent_tokenize(text_for_test))):\n",
    "        text_translated=translate(txt)\n",
    "        result_details=pipeline(text_translated, candidate_labels, multi_label=True)\n",
    "        result_details=dict(zip(result_details['labels'],result_details['scores']))\n",
    "        result = {name : np.mean(list(map(result_details.get, lst))) for lst,name in pii_}\n",
    "        result=dict(sorted(result.items(), key=operator.itemgetter(1),reverse=True))\n",
    "        print(txt)\n",
    "        print(result,pii(txt),'\\n')"
   ]
  },
  {
   "cell_type": "code",
   "execution_count": null,
   "metadata": {},
   "outputs": [
    {
     "name": "stderr",
     "output_type": "stream",
     "text": [
      " 12%|█▎        | 1/8 [00:26<03:02, 26.05s/it]"
     ]
    },
    {
     "name": "stdout",
     "output_type": "stream",
     "text": [
      "je travaille depuis 9 ans en tant qu'assistante commerciale puis chargée de clientèle au sein de l'entreprise de mobilier et décoration pour enfants Nanelle, collaborant avec des clients français mais aussi internationaux.\n",
      "{'not_personal': 0.30824191495776176, 'personal': 0.2822329627039532, 'person': 0.2510039895772934, 'phone': 0.11776222297921776, 'location': 0.10810620772341888, 'birth': 0.02412388753145933, 'passport': 0.0174852441996336, 'mail': 0.008737770956940949, 'cookie': 0.003342007054015994, 'Tax_file_number': 0.0027333921752870083, 'Driving_license': 0.0013418748276308179, 'social_security_number': 0.00019565093680284917, 'health': 0.00016902118780611394} {} \n",
      "\n"
     ]
    },
    {
     "name": "stderr",
     "output_type": "stream",
     "text": [
      " 25%|██▌       | 2/8 [00:52<02:39, 26.54s/it]"
     ]
    },
    {
     "name": "stdout",
     "output_type": "stream",
     "text": [
      "Aujourd'hui, je suis à la recherche d'un nouveau déni ou la dimension internationale est très presente, notamment avec les pays hispaniques.\n",
      "{'not_personal': 0.5814041271805763, 'phone': 0.15435394290834664, 'person': 0.10408069379627705, 'health': 0.03617899585515261, 'Tax_file_number': 0.028765035793185234, 'birth': 0.020488301835333306, 'mail': 0.017891529947519302, 'passport': 0.016267110593616962, 'social_security_number': 0.01242753304541111, 'personal': 0.008565973742709806, 'Driving_license': 0.007624065037816763, 'location': 0.0022149555443320423, 'cookie': 0.0016663727292325348} {} \n",
      "\n"
     ]
    },
    {
     "name": "stderr",
     "output_type": "stream",
     "text": [
      " 38%|███▊      | 3/8 [01:18<02:10, 26.13s/it]"
     ]
    },
    {
     "name": "stdout",
     "output_type": "stream",
     "text": [
      "Forte de mes expériences passées, je sais être à l'écoute des clients, gérer les situations de crise et j'aime travailler en équipe.\n",
      "{'person': 0.21040082201361657, 'not_personal': 0.1895107806970676, 'phone': 0.14989132434129715, 'location': 0.06646886530021827, 'Tax_file_number': 0.05819321051239967, 'mail': 0.05014226523538431, 'health': 0.047161114402115345, 'personal': 0.04020375719604393, 'passport': 0.03670997451990843, 'cookie': 0.029790873639285564, 'Driving_license': 0.015897588804364204, 'birth': 0.013688728678971529, 'social_security_number': 0.009205480106174946} {} \n",
      "\n"
     ]
    },
    {
     "name": "stderr",
     "output_type": "stream",
     "text": [
      " 50%|█████     | 4/8 [01:44<01:44, 26.23s/it]"
     ]
    },
    {
     "name": "stdout",
     "output_type": "stream",
     "text": [
      "Fort en 3 ans d'expérience en tant que responsable des projets événementiels et marketing opérationnel et 2 ans en tant qu'office manager au sein d'une start-up européenne, j'ai appris à mener des missions très diverses qui m'fait  permis de développer une importance capacité d'adaptation à toutes les situations.\n",
      "{'phone': 0.29110213592648504, 'not_personal': 0.27484429627656937, 'person': 0.22377476543188096, 'location': 0.12410424277186394, 'passport': 0.07489497866481543, 'personal': 0.06489285578330357, 'mail': 0.06380810836950938, 'cookie': 0.05591950938105583, 'Tax_file_number': 0.023226821795105934, 'health': 0.022538449460019667, 'social_security_number': 0.018412820994853973, 'birth': 0.016398179344832897, 'Driving_license': 0.01637924090027809} {} \n",
      "\n"
     ]
    },
    {
     "name": "stderr",
     "output_type": "stream",
     "text": [
      " 62%|██████▎   | 5/8 [02:08<01:15, 25.32s/it]"
     ]
    },
    {
     "name": "stdout",
     "output_type": "stream",
     "text": [
      "Aujourd'hui je suis à la recherche d'une nouvelle expérience d'office manager dans une strat-up afin de mettre à profit mes competences pour offrir un environnement  de travail simulant à mes futurs collegues.\n",
      "{'phone': 0.22682913281023503, 'person': 0.16583039574325084, 'not_personal': 0.142861342523247, 'mail': 0.06287176720798016, 'cookie': 0.038636354729533195, 'passport': 0.03287241281941533, 'health': 0.03253217623569071, 'location': 0.022352848201990128, 'birth': 0.016128060951208074, 'Tax_file_number': 0.015936288982629776, 'personal': 0.011172459926456213, 'Driving_license': 0.004727831110358238, 'social_security_number': 0.004663809202611446} {} \n",
      "\n"
     ]
    },
    {
     "name": "stderr",
     "output_type": "stream",
     "text": [
      " 75%|███████▌  | 6/8 [02:45<00:58, 29.24s/it]"
     ]
    },
    {
     "name": "stdout",
     "output_type": "stream",
     "text": [
      "Mon nom est Laval JACQUIN, j'ai 38 ans, j'habite 29 bis chemin de Rivals, mon numéro de téléphone est le +33652105579 et la plaque d'immatriculation de ma voiture est BP-152-FX, mon adresse mail est le l.jaquin@okp4.comIssue a Civil Monetary Penalty notice Leading to a fine ranging up to £500,000Issue an Enforcement Notice A formal notice requiring an organisation or individual to take the action specified in the notice in order to bring about compliance with the Act and related laws.\n",
      "{'person': 0.9767806768417359, 'Driving_license': 0.9112911224365234, 'phone': 0.8105910420417786, 'personal': 0.6570644111682972, 'location': 0.5809330008924007, 'birth': 0.5057771404584249, 'mail': 0.38115153710047406, 'not_personal': 0.32255076461782056, 'passport': 0.3193279579281807, 'cookie': 0.22782474849373102, 'Tax_file_number': 0.19343586266040802, 'health': 0.03966827830299735, 'social_security_number': 0.0027964420150965452} {'license_plate': ['BP-152-FX'], 'phones': ['+33652105579'], 'emails': ['l.jaquin@okp4.comIssue'], 'Person': ['nom est Laval JACQUIN']} \n",
      "\n"
     ]
    },
    {
     "name": "stderr",
     "output_type": "stream",
     "text": [
      " 88%|████████▊ | 7/8 [03:20<00:31, 31.18s/it]"
     ]
    },
    {
     "name": "stdout",
     "output_type": "stream",
     "text": [
      "Failure to comply with a notice is a criminal offence.Request and agree an Undertaking with the organisation A formal undertaking can be given by an organisation to the ICO, committing the organisation to a particular course of action or otherwise achieving compliance.Mohandas Karamchand Gandhi est né le 2 octobre 1869 à Porbandar, dans l'actuel État du Gujarat, en Inde.\n",
      "{'birth': 0.8778972029685974, 'person': 0.7851595520973206, 'location': 0.1859237796937426, 'not_personal': 0.143127481918782, 'phone': 0.10411309581249953, 'passport': 0.06145062483847141, 'Tax_file_number': 0.04389606788754463, 'mail': 0.03502973665793737, 'personal': 0.03146217639247576, 'health': 0.020481907296925783, 'Driving_license': 0.01061034481972456, 'social_security_number': 0.009559129364788532, 'cookie': 0.00723938609007746} {'Person': [' Karamchand Gandhi est'], 'Adresse': [('1869', 'à', 'Porbandar', ',')]} \n",
      "\n"
     ]
    },
    {
     "name": "stderr",
     "output_type": "stream",
     "text": [
      "100%|██████████| 8/8 [03:44<00:00, 28.02s/it]"
     ]
    },
    {
     "name": "stdout",
     "output_type": "stream",
     "text": [
      "Gandhi est né et a vécu toute sa vie en tant qu'hindou, mais dans une famille ouverte aux autres communautés religieuses, qu'elles soient jaïne, musulmane, ou parsie.\n",
      "{'birth': 0.8661070068677267, 'person': 0.6726939827203751, 'location': 0.4058381952345371, 'personal': 0.397697323312362, 'phone': 0.20421574893407524, 'not_personal': 0.1376817519776523, 'passport': 0.07598704006522894, 'mail': 0.01777647389099002, 'Driving_license': 0.0061357831582427025, 'Tax_file_number': 0.004960409831255674, 'health': 0.004444622551091015, 'cookie': 0.0022649350139545277, 'social_security_number': 0.0008060909458436072} {} \n",
      "\n"
     ]
    },
    {
     "name": "stderr",
     "output_type": "stream",
     "text": [
      "\n"
     ]
    }
   ],
   "source": [
    "text_for_test=\"\"\"je travaille depuis 9 ans en tant qu'assistante commerciale puis chargée de clientèle au sein de l'entreprise de mobilier et décoration pour enfants Nanelle, collaborant avec des clients français mais aussi internationaux. \\\n",
    " Aujourd'hui, je suis à la recherche d'un nouveau déni ou la dimension internationale est très presente, notamment avec les pays hispaniques. Forte de mes expériences passées, je sais être à l'écoute des clients, gérer les situations de crise et j'aime travailler en équipe.\\\n",
    " Fort en 3 ans d'expérience en tant que responsable des projets événementiels et marketing opérationnel et 2 ans en tant qu'office manager au sein d'une start-up européenne, j'ai appris à mener des missions très diverses qui m'fait \\\n",
    " permis de développer une importance capacité d'adaptation à toutes les situations. Aujourd'hui je suis à la recherche d'une nouvelle expérience d'office manager dans une strat-up afin de mettre à profit mes competences pour offrir un environnement \\\n",
    " de travail simulant à mes futurs collegues.\\\n",
    " Mon nom est Laval JACQUIN, j'ai 38 ans, j'habite 29 bis chemin de Rivals,\\\n",
    " mon numéro de téléphone est le +33652105579 et la plaque d'immatriculation de ma voiture est BP-152-FX, mon adresse mail est le l.jaquin@okp4.com\\\n",
    "Issue a Civil Monetary Penalty notice \\\n",
    "Leading to a fine ranging up to £500,000\\\n",
    "Issue an Enforcement Notice \\\n",
    "A formal notice requiring an organisation or individual to take the action specified in the notice in order to bring about compliance \\\n",
    "with the Act and related laws. Failure to comply with a notice is a criminal offence.\\\n",
    "Request and agree an Undertaking with the organisation \\\n",
    "A formal undertaking can be given by an organisation to the ICO, committing the organisation to a particular course of action or \\\n",
    "otherwise achieving compliance.\\\n",
    "Mohandas Karamchand Gandhi est né le 2 octobre 1869 à Porbandar, dans l'actuel État du Gujarat, en Inde. Gandhi est né et a vécu \\\n",
    "toute sa vie en tant qu'hindou, mais dans une famille ouverte aux autres communautés religieuses, qu'elles soient jaïne, musulmane, ou parsie.\"\"\"\n",
    "\n",
    "\n",
    "pii_=[(name,'person'),(birth,'birth'),(cookie,'cookie'),(phone,'phone'),(mail,'mail'),(location,'location'),(health,'health'),(personal,'personal'),\n",
    "        (not_personal,'not_personal'),(passport,\"passport\"),(Driving_license,\"Driving_license\"),(social_security_number,\"social_security_number\"),(Tax_file_number,\"Tax_file_number\")]\n",
    "for txt in  tqdm(nltk.sent_tokenize(text_for_test),total=len(nltk.sent_tokenize(text_for_test))):\n",
    "        text_translated=translate(txt)\n",
    "        result_details=pipeline(text_translated, candidate_labels, multi_label=True)\n",
    "        result_details=dict(zip(result_details['labels'],result_details['scores']))\n",
    "        result = {name : np.mean(list(map(result_details.get, lst))) for lst,name in pii_}\n",
    "        result=dict(sorted(result.items(), key=operator.itemgetter(1),reverse=True))\n",
    "        print(txt)\n",
    "        print(result,pii(txt),'\\n')"
   ]
  },
  {
   "cell_type": "code",
   "execution_count": 7,
   "metadata": {},
   "outputs": [
    {
     "name": "stderr",
     "output_type": "stream",
     "text": [
      " 10%|█         | 1/10 [00:20<03:00, 20.03s/it]"
     ]
    },
    {
     "name": "stdout",
     "output_type": "stream",
     "text": [
      "Je n'en parlerai pas, même s'il y a beaucoup à couvrir.\n",
      "{'not_personal': 0.9841677049795786, 'personal': 0.9473645091056824, 'health': 0.47398141026496887, 'location': 0.38356031477451324, 'person': 0.32798192352056504, 'Driving_license': 0.26537295430898666, 'passport': 0.24798356369137764, 'mail': 0.22184817989667258, 'Tax_file_number': 0.18324404954910278, 'phone': 0.1756570041179657, 'birth': 0.16620522737503052, 'social_security_number': 0.13045403361320496, 'cookie': 0.12900198064744473} {} \n",
      "\n"
     ]
    },
    {
     "name": "stderr",
     "output_type": "stream",
     "text": [
      " 20%|██        | 2/10 [00:39<02:39, 19.91s/it]"
     ]
    },
    {
     "name": "stdout",
     "output_type": "stream",
     "text": [
      "Je ne vais pas parler de l'histoire de la ville parce qu'il y aurait trop de choses à dire.\n",
      "{'not_personal': 0.551948552330335, 'personal': 0.2628419755026698, 'location': 0.045987945050001144, 'person': 0.03468801584094763, 'passport': 0.028501528315246105, 'Driving_license': 0.027863468509167433, 'phone': 0.005101692668783168, 'mail': 0.004793880507349968, 'birth': 0.0038952240720391273, 'Tax_file_number': 0.0033899133559316397, 'social_security_number': 0.0018296389607712626, 'cookie': 0.0012604718212969601, 'health': 0.00108249699890924} {} \n",
      "\n"
     ]
    },
    {
     "name": "stderr",
     "output_type": "stream",
     "text": [
      " 30%|███       | 3/10 [00:59<02:18, 19.83s/it]"
     ]
    },
    {
     "name": "stdout",
     "output_type": "stream",
     "text": [
      "Nous nous foutions de mettre de l'argent de côté\n",
      "{'not_personal': 0.5260385796427727, 'Driving_license': 0.28527082223445177, 'passport': 0.2837647902779281, 'personal': 0.27040012553334236, 'person': 0.188962160050869, 'Tax_file_number': 0.1245325431227684, 'location': 0.0981641411781311, 'birth': 0.03875095024704933, 'phone': 0.02910542270789544, 'mail': 0.02597430596748988, 'social_security_number': 0.021740710362792015, 'cookie': 0.017067363136447966, 'health': 0.01395665000503262} {} \n",
      "\n"
     ]
    }
   ],
   "source": [
    "\n",
    "pii_=[(name,'person'),(birth,'birth'),(cookie,'cookie'),(phone,'phone'),(mail,'mail'),(location,'location'),(health,'health'),(personal,'personal'),\n",
    "        (not_personal,'not_personal'),(passport,\"passport\"),(Driving_license,\"Driving_license\"),(social_security_number,\"social_security_number\"),(Tax_file_number,\"Tax_file_number\")]\n",
    "for row in  tqdm((df_fr['sentence2'][10:20]),total=10):\n",
    "    txt=nltk.sent_tokenize(row)\n",
    "    for sent in txt:\n",
    "        text_translated=translate(sent)\n",
    "        result_details=pipeline(text_translated, candidate_labels, multi_label=True)\n",
    "        result_details=dict(zip(result_details['labels'],result_details['scores']))\n",
    "        result = {name : np.mean(list(map(result_details.get, lst))) for lst,name in pii_}\n",
    "        result=dict(sorted(result.items(), key=operator.itemgetter(1),reverse=True))\n",
    "        print(sent)\n",
    "        print(result,pii(sent),'\\n')"
   ]
  },
  {
   "cell_type": "code",
   "execution_count": 7,
   "metadata": {},
   "outputs": [
    {
     "name": "stderr",
     "output_type": "stream",
     "text": [
      " 10%|█         | 1/10 [00:21<03:15, 21.67s/it]"
     ]
    },
    {
     "name": "stdout",
     "output_type": "stream",
     "text": [
      "لن أتحدث عن ذلك ، على الرغم من أن هناك الكثير لتغطيته.\n",
      "{'not_personal': 0.9883920550346375, 'personal': 0.9265740036964416, 'health': 0.370786115527153, 'location': 0.3156248480081558, 'person': 0.2849990278482437, 'Driving_license': 0.1955683995038271, 'passport': 0.18573249503970146, 'Tax_file_number': 0.15892036259174347, 'mail': 0.12784380465745926, 'birth': 0.10817523300647736, 'phone': 0.08716536561648051, 'social_security_number': 0.08305728435516357, 'cookie': 0.08057179534807801} {} \n",
      "\n"
     ]
    },
    {
     "name": "stderr",
     "output_type": "stream",
     "text": [
      " 20%|██        | 2/10 [00:42<02:47, 20.99s/it]"
     ]
    },
    {
     "name": "stdout",
     "output_type": "stream",
     "text": [
      "لن أتحدث عن تاريخ المدينة لأن هناك الكثير مما يمكن قوله حولها.\n",
      "{'not_personal': 0.8378292421499888, 'personal': 0.25604716744273903, 'location': 0.053988548927009106, 'Driving_license': 0.03388188756071031, 'passport': 0.033841521362774074, 'person': 0.027179042622447015, 'phone': 0.00490471573236088, 'mail': 0.004216025350615382, 'birth': 0.002978001721203327, 'Tax_file_number': 0.002551990794017911, 'health': 0.0014568092204475154, 'cookie': 0.0013126576668582857, 'social_security_number': 0.0008596362313255668} {} \n",
      "\n"
     ]
    },
    {
     "name": "stderr",
     "output_type": "stream",
     "text": [
      " 30%|███       | 3/10 [01:02<02:25, 20.73s/it]"
     ]
    },
    {
     "name": "stdout",
     "output_type": "stream",
     "text": [
      "لم نهتم بحفظ أي شيء.\n",
      "{'not_personal': 0.9023907283941904, 'personal': 0.541496855020523, 'Driving_license': 0.25744491443037987, 'passport': 0.23420715238898993, 'location': 0.14708219841122627, 'person': 0.13795675635337828, 'Tax_file_number': 0.10750200599431992, 'mail': 0.08597239603598912, 'health': 0.06876954808831215, 'cookie': 0.057212453335523605, 'phone': 0.0468420876810948, 'birth': 0.040192730724811554, 'social_security_number': 0.02618802897632122} {} \n",
      "\n"
     ]
    },
    {
     "name": "stderr",
     "output_type": "stream",
     "text": [
      " 40%|████      | 4/10 [01:23<02:05, 20.97s/it]"
     ]
    },
    {
     "name": "stdout",
     "output_type": "stream",
     "text": [
      "أردنا إنقاذ شيء واحد أكثر من الباقي.\n",
      "{'personal': 0.44187180399894715, 'not_personal': 0.42244766652584076, 'health': 0.25456297894318897, 'location': 0.24983789026737213, 'person': 0.2252763107419014, 'Driving_license': 0.21767161414027214, 'passport': 0.21075667440891266, 'cookie': 0.20775053650140762, 'Tax_file_number': 0.16923904418945312, 'birth': 0.16127364337444305, 'mail': 0.14324567963679632, 'phone': 0.1382590706149737, 'social_security_number': 0.06647558510303497} {} \n",
      "\n"
     ]
    },
    {
     "name": "stderr",
     "output_type": "stream",
     "text": [
      " 50%|█████     | 5/10 [01:47<01:49, 21.84s/it]"
     ]
    },
    {
     "name": "stdout",
     "output_type": "stream",
     "text": [
      "أردنا إنقاذ قنبلة h-bomb لأنه كان من الصعب التعامل معها.\n",
      "{'not_personal': 0.43906734852741164, 'personal': 0.2377616584300995, 'person': 0.08716509868390858, 'Driving_license': 0.05440270388498902, 'passport': 0.05425016439403407, 'location': 0.011429672129452229, 'Tax_file_number': 0.008047900162637234, 'health': 0.007717410180096825, 'cookie': 0.001978821523152874, 'phone': 0.0018214631321219106, 'birth': 0.0009272054303437471, 'mail': 0.0008049775109005471, 'social_security_number': 0.00041643998702056706} {} \n",
      "\n"
     ]
    },
    {
     "name": "stderr",
     "output_type": "stream",
     "text": [
      " 60%|██████    | 6/10 [02:09<01:28, 22.09s/it]"
     ]
    },
    {
     "name": "stdout",
     "output_type": "stream",
     "text": [
      "أنا متأكد من سبب ذلك.\n",
      "{'person': 0.25441187918186187, 'not_personal': 0.1958544982286791, 'Driving_license': 0.1750834509730339, 'personal': 0.162249955534935, 'passport': 0.11058080289512873, 'location': 0.10660858824849129, 'mail': 0.09665839622418086, 'health': 0.09566241130232811, 'Tax_file_number': 0.0893985852599144, 'birth': 0.055983830243349075, 'phone': 0.05164640272657076, 'social_security_number': 0.04524898901581764, 'cookie': 0.04339610878378153} {} \n",
      "\n"
     ]
    },
    {
     "name": "stderr",
     "output_type": "stream",
     "text": [
      " 70%|███████   | 7/10 [02:29<01:03, 21.24s/it]"
     ]
    },
    {
     "name": "stdout",
     "output_type": "stream",
     "text": [
      "لا أعرف لماذا قام بنقل المدارس.\n",
      "{'personal': 0.4389849752187729, 'not_personal': 0.43047090371449787, 'person': 0.23386965990066527, 'passport': 0.18827483151108027, 'Driving_license': 0.1848804831970483, 'location': 0.11831826437264681, 'birth': 0.011038640514016151, 'Tax_file_number': 0.006754979491233826, 'phone': 0.005094286646150674, 'cookie': 0.004799816175363958, 'mail': 0.004110068664886057, 'social_security_number': 0.0026110729668289423, 'health': 0.002537259744713083} {} \n",
      "\n"
     ]
    },
    {
     "name": "stderr",
     "output_type": "stream",
     "text": [
      " 80%|████████  | 8/10 [02:48<00:41, 20.52s/it]"
     ]
    },
    {
     "name": "stdout",
     "output_type": "stream",
     "text": [
      "لا أعرف لماذا حدث هذا.\n",
      "{'personal': 0.38076911866664886, 'not_personal': 0.3781730408469836, 'Driving_license': 0.24959032237529755, 'person': 0.2415455587208271, 'passport': 0.20134895108640194, 'location': 0.14183686673641205, 'mail': 0.12671119223038355, 'Tax_file_number': 0.10870002210140228, 'health': 0.08746906804541747, 'cookie': 0.07559278607368469, 'phone': 0.06568943212429683, 'social_security_number': 0.03929833695292473, 'birth': 0.03066185489296913} {} \n",
      "\n"
     ]
    },
    {
     "name": "stderr",
     "output_type": "stream",
     "text": [
      " 90%|█████████ | 9/10 [03:09<00:20, 20.80s/it]"
     ]
    },
    {
     "name": "stdout",
     "output_type": "stream",
     "text": [
      "كان على فاني فلونو إعادة تعيين جدول الأعمال وهي غير قادرة على إخبارنا بأية قصص اليوم.\n",
      "{'not_personal': 0.407796747982502, 'personal': 0.4067214518785477, 'person': 0.36351657211780547, 'passport': 0.19601094350218773, 'Driving_license': 0.19261427223682404, 'location': 0.17228026315569878, 'health': 0.11573689430952072, 'phone': 0.1137335995833079, 'mail': 0.09674082199732463, 'birth': 0.09138355404138565, 'Tax_file_number': 0.058184199035167694, 'cookie': 0.04686965560540557, 'social_security_number': 0.032113295048475266} {} \n",
      "\n"
     ]
    },
    {
     "name": "stderr",
     "output_type": "stream",
     "text": [
      "100%|██████████| 10/10 [03:33<00:00, 21.34s/it]"
     ]
    },
    {
     "name": "stdout",
     "output_type": "stream",
     "text": [
      "فاني فلونو هنا وستتحدث إلينا عن قصص طفولتها التي نشأت في أوغستا ، جورجيا.\n",
      "{'person': 0.8056835949420929, 'personal': 0.4525861658155918, 'location': 0.41296906024217606, 'passport': 0.10641976655460894, 'Driving_license': 0.10464398446492851, 'birth': 0.09195879846811295, 'not_personal': 0.08923469266543786, 'phone': 0.033841600020726524, 'mail': 0.013618535051743189, 'cookie': 0.0037779334816150367, 'Tax_file_number': 0.0019945672247558832, 'health': 0.0005931707516234989, 'social_security_number': 0.00037172119482420385} {} \n",
      "\n"
     ]
    },
    {
     "name": "stderr",
     "output_type": "stream",
     "text": [
      "\n"
     ]
    }
   ],
   "source": [
    "\n",
    "pii_=[(name,'person'),(birth,'birth'),(cookie,'cookie'),(phone,'phone'),(mail,'mail'),(location,'location'),(health,'health'),(personal,'personal'),\n",
    "        (not_personal,'not_personal'),(passport,\"passport\"),(Driving_license,\"Driving_license\"),(social_security_number,\"social_security_number\"),(Tax_file_number,\"Tax_file_number\")]\n",
    "for row in  tqdm((df['sentence2'][10:20]),total=10):\n",
    "    txt=nltk.sent_tokenize(row)\n",
    "    for sent in txt:\n",
    "        text_translated=translate(sent)\n",
    "        result_details=pipeline(text_translated, candidate_labels, multi_label=True)\n",
    "        result_details=dict(zip(result_details['labels'],result_details['scores']))\n",
    "        result = {name : np.mean(list(map(result_details.get, lst))) for lst,name in pii_}\n",
    "        result=dict(sorted(result.items(), key=operator.itemgetter(1),reverse=True))\n",
    "        print(sent)\n",
    "        print(result,pii(sent),'\\n')"
   ]
  },
  {
   "cell_type": "code",
   "execution_count": 6,
   "metadata": {},
   "outputs": [
    {
     "name": "stderr",
     "output_type": "stream",
     "text": [
      "  0%|          | 0/10 [00:00<?, ?it/s]"
     ]
    },
    {
     "name": "stdout",
     "output_type": "stream",
     "text": [
      "I won't talk about that, even though there's a lot to cover.\n"
     ]
    },
    {
     "name": "stderr",
     "output_type": "stream",
     "text": [
      " 10%|█         | 1/10 [00:07<01:09,  7.76s/it]"
     ]
    },
    {
     "name": "stdout",
     "output_type": "stream",
     "text": [
      "{'not_personal': 0.9388590057690939, 'personal': 0.8152696371078492, 'health': 0.22094861790537834, 'person': 0.16092061791568996, 'location': 0.1316453032195568, 'Driving_license': 0.08883541543036699, 'passport': 0.08257262594997883, 'Tax_file_number': 0.06034628674387932, 'mail': 0.036909457917014755, 'phone': 0.036280778547128044, 'birth': 0.02862405776977539, 'social_security_number': 0.02776450477540493, 'cookie': 0.021621993742883205} {} \n",
      "\n"
     ]
    },
    {
     "name": "stderr",
     "output_type": "stream",
     "text": [
      " 20%|██        | 2/10 [00:14<00:57,  7.14s/it]"
     ]
    },
    {
     "name": "stdout",
     "output_type": "stream",
     "text": [
      "I wont talk about the history of the city because there's too much to say.\n",
      "{'not_personal': 0.4606533795595169, 'personal': 0.27296008318662646, 'location': 0.03836904093623161, 'passport': 0.030110639752820134, 'Driving_license': 0.029813694360200316, 'person': 0.027960596419870854, 'mail': 0.004190686042420566, 'phone': 0.003975326059541355, 'Tax_file_number': 0.0026265669148415327, 'birth': 0.002535225823521614, 'social_security_number': 0.001649174140766263, 'cookie': 0.0008294580329675227, 'health': 0.00048727314667000127} {} \n",
      "\n"
     ]
    },
    {
     "name": "stderr",
     "output_type": "stream",
     "text": [
      " 30%|███       | 3/10 [00:20<00:45,  6.57s/it]"
     ]
    },
    {
     "name": "stdout",
     "output_type": "stream",
     "text": [
      "We didn't care about saving anything.\n",
      "{'not_personal': 0.790462851524353, 'personal': 0.3154886305332184, 'Driving_license': 0.25349659845232964, 'passport': 0.2266037669032812, 'person': 0.14120285362005233, 'Tax_file_number': 0.12256956100463867, 'location': 0.11776882037520409, 'mail': 0.08578578879435857, 'health': 0.04623243616273006, 'phone': 0.04585161743064722, 'cookie': 0.03569235187023878, 'birth': 0.03519388660788536, 'social_security_number': 0.026627590879797935} {} \n",
      "\n"
     ]
    },
    {
     "name": "stderr",
     "output_type": "stream",
     "text": [
      " 40%|████      | 4/10 [00:26<00:38,  6.39s/it]"
     ]
    },
    {
     "name": "stdout",
     "output_type": "stream",
     "text": [
      "We wanted to save one thing more than the rest.\n",
      "{'personal': 0.44187180399894715, 'not_personal': 0.42244766652584076, 'health': 0.25456297894318897, 'location': 0.24983789026737213, 'person': 0.2252763107419014, 'Driving_license': 0.21767161414027214, 'passport': 0.21075667440891266, 'cookie': 0.20775053650140762, 'Tax_file_number': 0.16923904418945312, 'birth': 0.16127364337444305, 'mail': 0.14324567963679632, 'phone': 0.1382590706149737, 'social_security_number': 0.06647558510303497} {} \n",
      "\n"
     ]
    },
    {
     "name": "stderr",
     "output_type": "stream",
     "text": [
      " 50%|█████     | 5/10 [00:32<00:31,  6.30s/it]"
     ]
    },
    {
     "name": "stdout",
     "output_type": "stream",
     "text": [
      "We wanted to save the h-bomb because it was so hard to deal with.\n",
      "{'not_personal': 0.31950906151905656, 'personal': 0.26170520335435865, 'person': 0.09357453780248762, 'Driving_license': 0.042022535344585776, 'passport': 0.04152356059057638, 'health': 0.016823953522058826, 'Tax_file_number': 0.014232429675757885, 'location': 0.009789076168090105, 'cookie': 0.002595961428596638, 'phone': 0.0023394046196093163, 'mail': 0.0011129930304984252, 'birth': 0.0009223032975569367, 'social_security_number': 0.0008632480748929083} {} \n",
      "\n"
     ]
    },
    {
     "name": "stderr",
     "output_type": "stream",
     "text": [
      " 60%|██████    | 6/10 [00:38<00:24,  6.18s/it]"
     ]
    },
    {
     "name": "stdout",
     "output_type": "stream",
     "text": [
      "I am certain as to the reason why.\n",
      "{'not_personal': 0.33709032585223514, 'personal': 0.289181487262249, 'person': 0.27950109988451005, 'health': 0.17010647306839624, 'Driving_license': 0.14263056963682175, 'mail': 0.13247030725081763, 'location': 0.13039712235331535, 'Tax_file_number': 0.12266440689563751, 'birth': 0.10504897683858871, 'passport': 0.08989274874329567, 'cookie': 0.08253726921975613, 'phone': 0.05718286335468292, 'social_security_number': 0.05684133991599083} {} \n",
      "\n"
     ]
    },
    {
     "name": "stderr",
     "output_type": "stream",
     "text": [
      " 70%|███████   | 7/10 [00:44<00:18,  6.12s/it]"
     ]
    },
    {
     "name": "stdout",
     "output_type": "stream",
     "text": [
      "I don't know why he transferred schools.\n",
      "{'personal': 0.5921112298965454, 'not_personal': 0.3730631060898304, 'person': 0.33491472229361535, 'passport': 0.19904117798432708, 'Driving_license': 0.1958033253904432, 'location': 0.1300851432606578, 'mail': 0.02772777946665883, 'birth': 0.01757407933473587, 'health': 0.016619367913032573, 'cookie': 0.012671806034632027, 'phone': 0.01196465486039718, 'Tax_file_number': 0.006460919976234436, 'social_security_number': 0.0022184615954756737} {} \n",
      "\n"
     ]
    },
    {
     "name": "stderr",
     "output_type": "stream",
     "text": [
      " 80%|████████  | 8/10 [00:50<00:12,  6.06s/it]"
     ]
    },
    {
     "name": "stdout",
     "output_type": "stream",
     "text": [
      "I don't know why that happened.\n",
      "{'not_personal': 0.3643004720409711, 'personal': 0.31799039244651794, 'Driving_license': 0.24749192595481873, 'person': 0.2245122916996479, 'passport': 0.2058627912774682, 'location': 0.13380054756999016, 'mail': 0.11642533416549365, 'Tax_file_number': 0.09967575967311859, 'health': 0.0665092213700215, 'phone': 0.0645840714375178, 'cookie': 0.05060127470642328, 'social_security_number': 0.03660659119486809, 'birth': 0.024572858586907387} {} \n",
      "\n"
     ]
    },
    {
     "name": "stderr",
     "output_type": "stream",
     "text": [
      " 90%|█████████ | 9/10 [00:56<00:06,  6.09s/it]"
     ]
    },
    {
     "name": "stdout",
     "output_type": "stream",
     "text": [
      "Fannie Flono had to reschedule and is unable to tell us any stories today.\n",
      "{'person': 0.5641347199678421, 'personal': 0.4508292108774185, 'not_personal': 0.43189521382252377, 'passport': 0.2689362671226263, 'Driving_license': 0.25633750669658184, 'location': 0.231398306787014, 'phone': 0.13890684147675833, 'Tax_file_number': 0.10201560705900192, 'mail': 0.08643491566181183, 'birth': 0.06285706162452698, 'health': 0.047752173307041325, 'social_security_number': 0.033242277801036835, 'cookie': 0.030549906427040696} {} \n",
      "\n"
     ]
    },
    {
     "name": "stderr",
     "output_type": "stream",
     "text": [
      "100%|██████████| 10/10 [01:03<00:00,  6.30s/it]"
     ]
    },
    {
     "name": "stdout",
     "output_type": "stream",
     "text": [
      "Fannie Flono is here and she is going to speak to us about her childhood stories from growing up in Augusta, GA.\n",
      "{'person': 0.93558669090271, 'personal': 0.44250903762876986, 'location': 0.4311541598290205, 'birth': 0.11698594689369202, 'passport': 0.10199196822941303, 'Driving_license': 0.09949446376413107, 'not_personal': 0.09323782197316177, 'phone': 0.02916531963273883, 'mail': 0.019156261036793392, 'cookie': 0.004985143430531025, 'Tax_file_number': 0.0031286212615668774, 'health': 0.0007982385432114825, 'social_security_number': 0.0004534236213658005} {} \n",
      "\n"
     ]
    },
    {
     "name": "stderr",
     "output_type": "stream",
     "text": [
      "\n"
     ]
    }
   ],
   "source": [
    "\n",
    "pii_=[(name,'person'),(birth,'birth'),(cookie,'cookie'),(phone,'phone'),(mail,'mail'),(location,'location'),(health,'health'),(personal,'personal'),\n",
    "        (not_personal,'not_personal'),(passport,\"passport\"),(Driving_license,\"Driving_license\"),(social_security_number,\"social_security_number\"),(Tax_file_number,\"Tax_file_number\")]\n",
    "for row in  tqdm((df_en['sentence2'][10:20]),total=10):\n",
    "    txt=nltk.sent_tokenize(row)\n",
    "    for sent in txt:\n",
    "        # text_translated=translate(sent)\n",
    "        result_details=pipeline(sent, candidate_labels, multi_label=True)\n",
    "        result_details=dict(zip(result_details['labels'],result_details['scores']))\n",
    "        result = {name : np.mean(list(map(result_details.get, lst))) for lst,name in pii_}\n",
    "        result=dict(sorted(result.items(), key=operator.itemgetter(1),reverse=True))\n",
    "        print(sent)\n",
    "        print(result,pii(sent),'\\n')"
   ]
  },
  {
   "cell_type": "code",
   "execution_count": null,
   "metadata": {},
   "outputs": [],
   "source": []
  }
 ],
 "metadata": {
  "interpreter": {
   "hash": "916dbcbb3f70747c44a77c7bcd40155683ae19c65e1c03b4aa3499c5328201f1"
  },
  "kernelspec": {
   "display_name": "Python 3.8.10 64-bit",
   "name": "python3"
  },
  "language_info": {
   "codemirror_mode": {
    "name": "ipython",
    "version": 3
   },
   "file_extension": ".py",
   "mimetype": "text/x-python",
   "name": "python",
   "nbconvert_exporter": "python",
   "pygments_lexer": "ipython3",
   "version": "3.8.10"
  },
  "orig_nbformat": 4
 },
 "nbformat": 4,
 "nbformat_minor": 2
}
